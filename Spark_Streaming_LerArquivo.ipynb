{
  "nbformat": 4,
  "nbformat_minor": 0,
  "metadata": {
    "kernelspec": {
      "display_name": "Python 3",
      "language": "python",
      "name": "python3"
    },
    "language_info": {
      "codemirror_mode": {
        "name": "ipython",
        "version": 3
      },
      "file_extension": ".py",
      "mimetype": "text/x-python",
      "name": "python",
      "nbconvert_exporter": "python",
      "pygments_lexer": "ipython3",
      "version": "3.8.5"
    },
    "colab": {
      "name": "Spark_Streaming_LerArquivo.ipynb",
      "provenance": [],
      "include_colab_link": true
    }
  },
  "cells": [
    {
      "cell_type": "markdown",
      "metadata": {
        "id": "view-in-github",
        "colab_type": "text"
      },
      "source": [
        "<a href=\"https://colab.research.google.com/github/mariaeduardagimenes/Spark/blob/master/Spark_Streaming_LerArquivo.ipynb\" target=\"_parent\"><img src=\"https://colab.research.google.com/assets/colab-badge.svg\" alt=\"Open In Colab\"/></a>"
      ]
    },
    {
      "cell_type": "markdown",
      "metadata": {
        "id": "8yCwQ9TIzOTE",
        "colab_type": "text"
      },
      "source": [
        "**Exemplo de Streaming Para Leitura de Arquivos de Um Diretório**"
      ]
    },
    {
      "cell_type": "code",
      "metadata": {
        "id": "yiZvZ-hJzOTG",
        "colab_type": "code",
        "colab": {}
      },
      "source": [
        "import spark\n",
        "import pyspark\n",
        "import jdk"
      ],
      "execution_count": null,
      "outputs": []
    },
    {
      "cell_type": "code",
      "metadata": {
        "id": "TLYk0vgWzOTM",
        "colab_type": "code",
        "colab": {}
      },
      "source": [
        "#cria a seção a ser utiliza para estabelecer a conexão \n",
        "from pyspark.sql import SparkSession\n",
        "from pyspark.sql.functions import explode\n",
        "from pyspark.sql.functions import split\n",
        "\n",
        "spark = SparkSession \\\n",
        "    .builder \\\n",
        "    .appName(\"StructuredNetworkWordCount\") \\\n",
        "    .getOrCreate()"
      ],
      "execution_count": null,
      "outputs": []
    },
    {
      "cell_type": "code",
      "metadata": {
        "id": "Aqm0yduvzOTQ",
        "colab_type": "code",
        "colab": {}
      },
      "source": [
        "#cria o dataframe que será responsável por ler cada uma das linhas recebidas dos arquivos adicionados no diretório\n",
        "files_dir = spark.readStream\\\n",
        "    .format(\"text\")\\\n",
        "    .option(\"inferSchema\", \"true\")\\\n",
        "    .option(\"maxFilesPerTrigger\", 1)\\\n",
        "    .load(\"/mariaeduardagimenes/arquivos/*.txt\")"
      ],
      "execution_count": null,
      "outputs": []
    },
    {
      "cell_type": "code",
      "metadata": {
        "id": "5TVAKnyxzOTT",
        "colab_type": "code",
        "colab": {},
        "outputId": "4d4ad076-4edc-4b68-f1e6-95db790d6553"
      },
      "source": [
        "#verifica se criou o streaming\n",
        "files_dir.isStreaming"
      ],
      "execution_count": null,
      "outputs": [
        {
          "output_type": "execute_result",
          "data": {
            "text/plain": [
              "True"
            ]
          },
          "metadata": {
            "tags": []
          },
          "execution_count": 4
        }
      ]
    },
    {
      "cell_type": "code",
      "metadata": {
        "id": "hP728RQNzOTW",
        "colab_type": "code",
        "colab": {}
      },
      "source": [
        "# Divide as linhas recebidas em cada palavra\n",
        "words = files_dir.select(\n",
        "   explode(\n",
        "       split(files_dir.value, \" \")\n",
        "   ).alias(\"word\")\n",
        ")\n",
        "\n",
        "# cria o novo dataframe a ser responsável por contar a quantidade de palavras digitadas\n",
        "wordCounts = words.groupBy(\"word\").count()\n"
      ],
      "execution_count": null,
      "outputs": []
    },
    {
      "cell_type": "code",
      "metadata": {
        "id": "_KgoGQCOzOTZ",
        "colab_type": "code",
        "colab": {}
      },
      "source": [
        "#ordena as palavras que mais aparecem\n",
        "from pyspark.sql.functions import desc\n",
        "wordCounts = wordCounts.sort(desc(\"count\"))"
      ],
      "execution_count": null,
      "outputs": []
    },
    {
      "cell_type": "code",
      "metadata": {
        "id": "YiWK47Z4zOTb",
        "colab_type": "code",
        "colab": {}
      },
      "source": [
        "# Define a consulta (query) e como deve ser realizada a saída (sink) para o stream criado \n",
        "query = wordCounts \\\n",
        "    .writeStream \\\n",
        "    .outputMode(\"complete\") \\\n",
        "    .format(\"console\") \\\n",
        "    .start() #inicia a \"query\"\n",
        "\n",
        "\n",
        "query.awaitTermination() #aguarda até que a \"streaming query\" termine "
      ],
      "execution_count": null,
      "outputs": []
    },
    {
      "cell_type": "code",
      "metadata": {
        "id": "OVkllqbQzOTe",
        "colab_type": "code",
        "colab": {}
      },
      "source": [
        ""
      ],
      "execution_count": null,
      "outputs": []
    }
  ]
}