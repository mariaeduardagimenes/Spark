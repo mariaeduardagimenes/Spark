{
  "nbformat": 4,
  "nbformat_minor": 0,
  "metadata": {
    "kernelspec": {
      "display_name": "Python 3",
      "language": "python",
      "name": "python3"
    },
    "language_info": {
      "codemirror_mode": {
        "name": "ipython",
        "version": 3
      },
      "file_extension": ".py",
      "mimetype": "text/x-python",
      "name": "python",
      "nbconvert_exporter": "python",
      "pygments_lexer": "ipython3",
      "version": "3.8.5"
    },
    "colab": {
      "name": "Spark_static_count_word.ipynb",
      "provenance": [],
      "include_colab_link": true
    }
  },
  "cells": [
    {
      "cell_type": "markdown",
      "metadata": {
        "id": "view-in-github",
        "colab_type": "text"
      },
      "source": [
        "<a href=\"https://colab.research.google.com/github/mariaeduardagimenes/Spark/blob/master/Spark_static_count_word.ipynb\" target=\"_parent\"><img src=\"https://colab.research.google.com/assets/colab-badge.svg\" alt=\"Open In Colab\"/></a>"
      ]
    },
    {
      "cell_type": "markdown",
      "metadata": {
        "id": "prnPqNIDzj8s",
        "colab_type": "text"
      },
      "source": [
        "**Contar Palavras Estatica**"
      ]
    },
    {
      "cell_type": "code",
      "metadata": {
        "id": "VvFHcFDzzj8u",
        "colab_type": "code",
        "colab": {}
      },
      "source": [
        "import spark"
      ],
      "execution_count": null,
      "outputs": []
    },
    {
      "cell_type": "code",
      "metadata": {
        "id": "y1pd7P-hzj80",
        "colab_type": "code",
        "colab": {}
      },
      "source": [
        "#cria a seção a ser utilizada pelo spark\n",
        "from pyspark.sql import SparkSession\n",
        "spark = SparkSession.builder.appName('abc').getOrCreate()\n"
      ],
      "execution_count": null,
      "outputs": []
    },
    {
      "cell_type": "code",
      "metadata": {
        "id": "-0DjZQJ1zj85",
        "colab_type": "code",
        "colab": {}
      },
      "source": [
        "#lendo o arquivo de texto\n",
        "read_file = spark\\\n",
        ".read\\\n",
        ".format(\"txt\")\\\n",
        ".option(\"inferSchema\", \"true\")\\\n",
        ".text(\"arquivoTexto.txt\")"
      ],
      "execution_count": null,
      "outputs": []
    },
    {
      "cell_type": "code",
      "metadata": {
        "id": "Dw_vuobFzj89",
        "colab_type": "code",
        "colab": {},
        "outputId": "b27e7f59-ed95-426d-97f2-a8f8f8a654ac"
      },
      "source": [
        "#print do esquema do arquivo lido\n",
        "read_file.printSchema()"
      ],
      "execution_count": null,
      "outputs": [
        {
          "output_type": "stream",
          "text": [
            "root\n",
            " |-- value: string (nullable = true)\n",
            "\n"
          ],
          "name": "stdout"
        }
      ]
    },
    {
      "cell_type": "code",
      "metadata": {
        "id": "vKxY2FR9zj9A",
        "colab_type": "code",
        "colab": {},
        "outputId": "c7b9ef99-2adb-4856-e950-1b79d64ddc36"
      },
      "source": [
        "#verifica se é um streaming\n",
        "read_file.isStreaming"
      ],
      "execution_count": null,
      "outputs": [
        {
          "output_type": "execute_result",
          "data": {
            "text/plain": [
              "False"
            ]
          },
          "metadata": {
            "tags": []
          },
          "execution_count": 12
        }
      ]
    },
    {
      "cell_type": "code",
      "metadata": {
        "id": "9saz4KMczj9D",
        "colab_type": "code",
        "colab": {}
      },
      "source": [
        "#Define as bibliotecas a serem utilizadas\n",
        "from pyspark.sql.functions import explode  #separa os elementos de uma linha em multiplas linhas\n",
        "from pyspark.sql.functions import split  #divide as linhas"
      ],
      "execution_count": null,
      "outputs": []
    },
    {
      "cell_type": "code",
      "metadata": {
        "id": "hcBxcANPzj9F",
        "colab_type": "code",
        "colab": {}
      },
      "source": [
        "# Divide as linhas do arquivo\n",
        "words = read_file.select(\n",
        "   explode(\n",
        "       split(read_file.value, \" \")\n",
        "   ).alias(\"word\")\n",
        ")\n",
        "\n",
        "# cria o novo dataframe a ser responsável por contar a quantidade de palavras digitadas\n",
        "wordCounts = words.groupBy(\"word\").count()"
      ],
      "execution_count": null,
      "outputs": []
    },
    {
      "cell_type": "code",
      "metadata": {
        "id": "acPnesZzzj9H",
        "colab_type": "code",
        "colab": {},
        "outputId": "37102eb7-a9a4-467c-86d3-bca8c74cdf62"
      },
      "source": [
        "#realiza o \"plot\" das palavras\n",
        "wordCounts.show()"
      ],
      "execution_count": null,
      "outputs": [
        {
          "output_type": "stream",
          "text": [
            "+----------+-----+\n",
            "|      word|count|\n",
            "+----------+-----+\n",
            "|    minhas|    1|\n",
            "|      vida|    1|\n",
            "|esquecerei|    2|\n",
            "|   caminho|    6|\n",
            "|       tão|    1|\n",
            "|      meio|    6|\n",
            "|    pedra.|    2|\n",
            "|     pedra|    5|\n",
            "|        me|    2|\n",
            "|        de|    1|\n",
            "|     tinha|    7|\n",
            "|     Nunca|    2|\n",
            "|       que|    1|\n",
            "|        No|    1|\n",
            "|   retinas|    1|\n",
            "|        do|    6|\n",
            "|       uma|    7|\n",
            "|        no|    5|\n",
            "|fatigadas.|    1|\n",
            "|          |    1|\n",
            "+----------+-----+\n",
            "only showing top 20 rows\n",
            "\n"
          ],
          "name": "stdout"
        }
      ]
    },
    {
      "cell_type": "code",
      "metadata": {
        "id": "xTgVVKBszj9J",
        "colab_type": "code",
        "colab": {}
      },
      "source": [
        ""
      ],
      "execution_count": null,
      "outputs": []
    }
  ]
}