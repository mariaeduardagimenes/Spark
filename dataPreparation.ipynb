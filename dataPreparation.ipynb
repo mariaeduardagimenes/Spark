{
  "nbformat": 4,
  "nbformat_minor": 0,
  "metadata": {
    "name": "dataPreparation",
    "notebookId": 2205451470308314,
    "colab": {
      "name": "dataPreparation.ipynb",
      "provenance": [],
      "include_colab_link": true
    }
  },
  "cells": [
    {
      "cell_type": "markdown",
      "metadata": {
        "id": "view-in-github",
        "colab_type": "text"
      },
      "source": [
        "<a href=\"https://colab.research.google.com/github/mariaeduardagimenes/Spark/blob/master/dataPreparation.ipynb\" target=\"_parent\"><img src=\"https://colab.research.google.com/assets/colab-badge.svg\" alt=\"Open In Colab\"/></a>"
      ]
    },
    {
      "cell_type": "code",
      "metadata": {
        "id": "dA0QOQJo4Sn4",
        "colab_type": "code",
        "colab": {}
      },
      "source": [
        "#utilizado para a demonstração da preparação dos dados"
      ],
      "execution_count": null,
      "outputs": []
    },
    {
      "cell_type": "code",
      "metadata": {
        "id": "PBmfy_0I4SoB",
        "colab_type": "code",
        "colab": {},
        "outputId": "1bc56a81-6118-4d43-cf37-3aae1f22a17a"
      },
      "source": [
        "from pyspark.sql import SparkSession #importa a biblioteca que cria a seção do spark"
      ],
      "execution_count": null,
      "outputs": [
        {
          "output_type": "display_data",
          "data": {
            "text/html": [
              "<style scoped>\n",
              "  .ansiout {\n",
              "    display: block;\n",
              "    unicode-bidi: embed;\n",
              "    white-space: pre-wrap;\n",
              "    word-wrap: break-word;\n",
              "    word-break: break-all;\n",
              "    font-family: \"Source Code Pro\", \"Menlo\", monospace;;\n",
              "    font-size: 13px;\n",
              "    color: #555;\n",
              "    margin-left: 4px;\n",
              "    line-height: 19px;\n",
              "  }\n",
              "</style>\n",
              "<div class=\"ansiout\"></div>"
            ]
          },
          "metadata": {
            "tags": []
          }
        }
      ]
    },
    {
      "cell_type": "code",
      "metadata": {
        "id": "CZq5zGOI4SoI",
        "colab_type": "code",
        "colab": {},
        "outputId": "5c9b7c97-8d35-4af2-b53a-22f66ca3030c"
      },
      "source": [
        "#inicia a seção para a utilização do spark\n",
        "spark = SparkSession.builder.appName(\"PreparacaoDados\").getOrCreate() #cria a seção caso não exista ou obtém a já criada"
      ],
      "execution_count": null,
      "outputs": [
        {
          "output_type": "display_data",
          "data": {
            "text/html": [
              "<style scoped>\n",
              "  .ansiout {\n",
              "    display: block;\n",
              "    unicode-bidi: embed;\n",
              "    white-space: pre-wrap;\n",
              "    word-wrap: break-word;\n",
              "    word-break: break-all;\n",
              "    font-family: \"Source Code Pro\", \"Menlo\", monospace;;\n",
              "    font-size: 13px;\n",
              "    color: #555;\n",
              "    margin-left: 4px;\n",
              "    line-height: 19px;\n",
              "  }\n",
              "</style>\n",
              "<div class=\"ansiout\"></div>"
            ]
          },
          "metadata": {
            "tags": []
          }
        }
      ]
    },
    {
      "cell_type": "code",
      "metadata": {
        "id": "kzmHEpSR4SoM",
        "colab_type": "code",
        "colab": {},
        "outputId": "1658aaf6-39da-44bc-ad1b-2b9b03713ab0"
      },
      "source": [
        "%fs ls /FileStore/tables"
      ],
      "execution_count": null,
      "outputs": [
        {
          "output_type": "display_data",
          "data": {
            "text/html": [
              "<style scoped>\n",
              "  .table-result-container {\n",
              "    max-height: 300px;\n",
              "    overflow: auto;\n",
              "  }\n",
              "  table, th, td {\n",
              "    border: 1px solid black;\n",
              "    border-collapse: collapse;\n",
              "  }\n",
              "  th, td {\n",
              "    padding: 5px;\n",
              "  }\n",
              "  th {\n",
              "    text-align: left;\n",
              "  }\n",
              "</style><div class='table-result-container'><table class='table-result'><thead style='background-color: white'><tr><th>path</th><th>name</th><th>size</th></tr></thead><tbody><tr><td>dbfs:/FileStore/tables/Police_Department_Incident_Reports__Historical_2003_to_May_2018.csv</td><td>Police_Department_Incident_Reports__Historical_2003_to_May_2018.csv</td><td>463094961</td></tr><tr><td>dbfs:/FileStore/tables/d1995_07_01-24d0c.json</td><td>d1995_07_01-24d0c.json</td><td>7451741</td></tr><tr><td>dbfs:/FileStore/tables/d1995_07_02-c3f44.json</td><td>d1995_07_02-c3f44.json</td><td>9572086</td></tr><tr><td>dbfs:/FileStore/tables/d1995_07_03-f99af.json</td><td>d1995_07_03-f99af.json</td><td>14125303</td></tr><tr><td>dbfs:/FileStore/tables/d1995_07_04-c5a7f.json</td><td>d1995_07_04-c5a7f.json</td><td>12030333</td></tr><tr><td>dbfs:/FileStore/tables/d1995_07_05-0f261.json</td><td>d1995_07_05-0f261.json</td><td>14662194</td></tr><tr><td>dbfs:/FileStore/tables/d1995_07_06-20619.json</td><td>d1995_07_06-20619.json</td><td>15557682</td></tr><tr><td>dbfs:/FileStore/tables/d1995_07_07-2dd8d.json</td><td>d1995_07_07-2dd8d.json</td><td>15279295</td></tr><tr><td>dbfs:/FileStore/tables/d1995_07_08-83302.json</td><td>d1995_07_08-83302.json</td><td>7033852</td></tr><tr><td>dbfs:/FileStore/tables/d1995_07_09-f75d3.json</td><td>d1995_07_09-f75d3.json</td><td>5589076</td></tr><tr><td>dbfs:/FileStore/tables/d1995_07_10-160a3.json</td><td>d1995_07_10-160a3.json</td><td>10616482</td></tr><tr><td>dbfs:/FileStore/tables/d1995_07_11-8800f.json</td><td>d1995_07_11-8800f.json</td><td>12486245</td></tr><tr><td>dbfs:/FileStore/tables/d1995_07_12-3091c.json</td><td>d1995_07_12-3091c.json</td><td>14080494</td></tr><tr><td>dbfs:/FileStore/tables/d1995_07_13-242b2.json</td><td>d1995_07_13-242b2.json</td><td>21989188</td></tr><tr><td>dbfs:/FileStore/tables/d1995_07_14-bab67.json</td><td>d1995_07_14-bab67.json</td><td>13780636</td></tr><tr><td>dbfs:/FileStore/tables/d1995_07_15-57e08.json</td><td>d1995_07_15-57e08.json</td><td>8057272</td></tr><tr><td>dbfs:/FileStore/tables/d1995_07_16-2ca03.json</td><td>d1995_07_16-2ca03.json</td><td>7171848</td></tr><tr><td>dbfs:/FileStore/tables/d1995_07_17-905a5.json</td><td>d1995_07_17-905a5.json</td><td>11897536</td></tr><tr><td>dbfs:/FileStore/tables/d1995_07_18-13b8b.json</td><td>d1995_07_18-13b8b.json</td><td>10569098</td></tr><tr><td>dbfs:/FileStore/tables/d1995_07_19-e2537.json</td><td>d1995_07_19-e2537.json</td><td>11515206</td></tr><tr><td>dbfs:/FileStore/tables/d1995_07_20-0f6d2.json</td><td>d1995_07_20-0f6d2.json</td><td>11049142</td></tr><tr><td>dbfs:/FileStore/tables/d1995_07_21-37a88.json</td><td>d1995_07_21-37a88.json</td><td>10475868</td></tr><tr><td>dbfs:/FileStore/tables/d1995_07_22-3b894.json</td><td>d1995_07_22-3b894.json</td><td>6028420</td></tr><tr><td>dbfs:/FileStore/tables/d1995_07_23-8d606.json</td><td>d1995_07_23-8d606.json</td><td>5620028</td></tr><tr><td>dbfs:/FileStore/tables/d1995_07_24-bcae5.json</td><td>d1995_07_24-bcae5.json</td><td>10433367</td></tr><tr><td>dbfs:/FileStore/tables/d1995_07_25-22c14.json</td><td>d1995_07_25-22c14.json</td><td>9883055</td></tr><tr><td>dbfs:/FileStore/tables/d1995_07_26-8a504.json</td><td>d1995_07_26-8a504.json</td><td>9087395</td></tr><tr><td>dbfs:/FileStore/tables/d1995_07_27-32f69.json</td><td>d1995_07_27-32f69.json</td><td>10172162</td></tr><tr><td>dbfs:/FileStore/tables/d1995_07_28-8d6d2.json</td><td>d1995_07_28-8d6d2.json</td><td>6206927</td></tr><tr><td>dbfs:/FileStore/tables/designation.json</td><td>designation.json</td><td>400</td></tr><tr><td>dbfs:/FileStore/tables/digits.csv</td><td>digits.csv</td><td>338477</td></tr><tr><td>dbfs:/FileStore/tables/digitsNew.csv</td><td>digitsNew.csv</td><td>76775041</td></tr><tr><td>dbfs:/FileStore/tables/iris_bezdekIris.csv</td><td>iris_bezdekIris.csv</td><td>4551</td></tr><tr><td>dbfs:/FileStore/tables/kddcup_data_10_percent_corrected-2f6f3</td><td>kddcup_data_10_percent_corrected-2f6f3</td><td>74889749</td></tr><tr><td>dbfs:/FileStore/tables/regressaoLinear.csv</td><td>regressaoLinear.csv</td><td>564</td></tr><tr><td>dbfs:/FileStore/tables/salario_df.csv</td><td>salario_df.csv</td><td>2505</td></tr><tr><td>dbfs:/FileStore/tables/salary.json</td><td>salary.json</td><td>361</td></tr><tr><td>dbfs:/FileStore/tables/temperature.csv</td><td>temperature.csv</td><td>13971171</td></tr><tr><td>dbfs:/FileStore/tables/transport_nodes-7c826.csv</td><td>transport_nodes-7c826.csv</td><td>465</td></tr><tr><td>dbfs:/FileStore/tables/transport_relationships-c2bfc.csv</td><td>transport_relationships-c2bfc.csv</td><td>550</td></tr><tr><td>dbfs:/FileStore/tables/u.data</td><td>u.data</td><td>1979173</td></tr><tr><td>dbfs:/FileStore/tables/winequality_red-42ff5.csv</td><td>winequality_red-42ff5.csv</td><td>84199</td></tr><tr><td>dbfs:/FileStore/tables/worldcities.csv</td><td>worldcities.csv</td><td>1667065</td></tr></tbody></table></div>"
            ]
          },
          "metadata": {
            "tags": []
          }
        }
      ]
    },
    {
      "cell_type": "code",
      "metadata": {
        "id": "yKdebPI54SoQ",
        "colab_type": "code",
        "colab": {},
        "outputId": "e5637d27-bb4c-427d-9610-7426ead86de9"
      },
      "source": [
        "diretorioDatasetOcup=\"/FileStore/tables/designation.json\"  #diretório que contém o arquivo a ser utilizado"
      ],
      "execution_count": null,
      "outputs": [
        {
          "output_type": "display_data",
          "data": {
            "text/html": [
              "<style scoped>\n",
              "  .ansiout {\n",
              "    display: block;\n",
              "    unicode-bidi: embed;\n",
              "    white-space: pre-wrap;\n",
              "    word-wrap: break-word;\n",
              "    word-break: break-all;\n",
              "    font-family: \"Source Code Pro\", \"Menlo\", monospace;;\n",
              "    font-size: 13px;\n",
              "    color: #555;\n",
              "    margin-left: 4px;\n",
              "    line-height: 19px;\n",
              "  }\n",
              "</style>\n",
              "<div class=\"ansiout\"></div>"
            ]
          },
          "metadata": {
            "tags": []
          }
        }
      ]
    },
    {
      "cell_type": "code",
      "metadata": {
        "id": "cr8Azg-f4SoT",
        "colab_type": "code",
        "colab": {},
        "outputId": "b3ff5508-ccc6-4449-d786-2f7542115268"
      },
      "source": [
        "diretorioDatasetSala=\"/FileStore/tables/salary.json\"  #diretório que contém o arquivo a ser utilizado"
      ],
      "execution_count": null,
      "outputs": [
        {
          "output_type": "display_data",
          "data": {
            "text/html": [
              "<style scoped>\n",
              "  .ansiout {\n",
              "    display: block;\n",
              "    unicode-bidi: embed;\n",
              "    white-space: pre-wrap;\n",
              "    word-wrap: break-word;\n",
              "    word-break: break-all;\n",
              "    font-family: \"Source Code Pro\", \"Menlo\", monospace;;\n",
              "    font-size: 13px;\n",
              "    color: #555;\n",
              "    margin-left: 4px;\n",
              "    line-height: 19px;\n",
              "  }\n",
              "</style>\n",
              "<div class=\"ansiout\"></div>"
            ]
          },
          "metadata": {
            "tags": []
          }
        }
      ]
    },
    {
      "cell_type": "code",
      "metadata": {
        "id": "5rlpohVf4SoV",
        "colab_type": "code",
        "colab": {},
        "outputId": "d424524b-0a97-40c1-a6f8-fda1d8563d4f"
      },
      "source": [
        "#criando um RDD e convertendo em Dataframe\n",
        "empregados=spark.sparkContext.parallelize([(1, \"Joao\", 25), (2, \"Ricardo\", 35), (3, \"Marcio\", 24), \\\n",
        "                           (4, \"Janete\", 28), (5, \"Kely\", 26), (6, \"Vicente\", 35), \\\n",
        "                           (7, \"Jander\", 38), (8, \"Maria\", 32), (9, \"Gabriel\", 29), \\\n",
        "                           (10, \"Kimberly\", 29), (11, \"Alex\", 28), (12, \"Gustavo\", 25), \\\n",
        "                           (13, \"Rafael\", 31)]).toDF([\"emp_id\",\"nome\",\"idade\"])"
      ],
      "execution_count": null,
      "outputs": [
        {
          "output_type": "display_data",
          "data": {
            "text/html": [
              "<style scoped>\n",
              "  .ansiout {\n",
              "    display: block;\n",
              "    unicode-bidi: embed;\n",
              "    white-space: pre-wrap;\n",
              "    word-wrap: break-word;\n",
              "    word-break: break-all;\n",
              "    font-family: \"Source Code Pro\", \"Menlo\", monospace;;\n",
              "    font-size: 13px;\n",
              "    color: #555;\n",
              "    margin-left: 4px;\n",
              "    line-height: 19px;\n",
              "  }\n",
              "</style>\n",
              "<div class=\"ansiout\"></div>"
            ]
          },
          "metadata": {
            "tags": []
          }
        }
      ]
    },
    {
      "cell_type": "code",
      "metadata": {
        "id": "RJnEpY9I4SoX",
        "colab_type": "code",
        "colab": {},
        "outputId": "65ce57f1-b8b1-47d7-8771-ef866b555214"
      },
      "source": [
        "empregados.show(5)"
      ],
      "execution_count": null,
      "outputs": [
        {
          "output_type": "display_data",
          "data": {
            "text/html": [
              "<style scoped>\n",
              "  .ansiout {\n",
              "    display: block;\n",
              "    unicode-bidi: embed;\n",
              "    white-space: pre-wrap;\n",
              "    word-wrap: break-word;\n",
              "    word-break: break-all;\n",
              "    font-family: \"Source Code Pro\", \"Menlo\", monospace;;\n",
              "    font-size: 13px;\n",
              "    color: #555;\n",
              "    margin-left: 4px;\n",
              "    line-height: 19px;\n",
              "  }\n",
              "</style>\n",
              "<div class=\"ansiout\">+------+-------+-----+\n",
              "emp_id|   nome|idade|\n",
              "+------+-------+-----+\n",
              "     1|   Joao|   25|\n",
              "     2|Ricardo|   35|\n",
              "     3| Marcio|   24|\n",
              "     4| Janete|   28|\n",
              "     5|   Kely|   26|\n",
              "+------+-------+-----+\n",
              "only showing top 5 rows\n",
              "\n",
              "</div>"
            ]
          },
          "metadata": {
            "tags": []
          }
        }
      ]
    },
    {
      "cell_type": "code",
      "metadata": {
        "id": "HPjwP2QQ4SoZ",
        "colab_type": "code",
        "colab": {},
        "outputId": "fab696f5-5bef-4936-925c-46100b00beaa"
      },
      "source": [
        "#lendo arquivos armazenados em um JSON\n",
        "salario = spark.read.json(diretorioDatasetSala)  #lê os dados do diretório"
      ],
      "execution_count": null,
      "outputs": [
        {
          "output_type": "display_data",
          "data": {
            "text/html": [
              "<style scoped>\n",
              "  .ansiout {\n",
              "    display: block;\n",
              "    unicode-bidi: embed;\n",
              "    white-space: pre-wrap;\n",
              "    word-wrap: break-word;\n",
              "    word-break: break-all;\n",
              "    font-family: \"Source Code Pro\", \"Menlo\", monospace;;\n",
              "    font-size: 13px;\n",
              "    color: #555;\n",
              "    margin-left: 4px;\n",
              "    line-height: 19px;\n",
              "  }\n",
              "</style>\n",
              "<div class=\"ansiout\"></div>"
            ]
          },
          "metadata": {
            "tags": []
          }
        }
      ]
    },
    {
      "cell_type": "code",
      "metadata": {
        "id": "RTxz_wBk4Sob",
        "colab_type": "code",
        "colab": {},
        "outputId": "4fd1fb0e-9c24-4d19-f950-1a8b9ee7736a"
      },
      "source": [
        "salario.show(5)"
      ],
      "execution_count": null,
      "outputs": [
        {
          "output_type": "display_data",
          "data": {
            "text/html": [
              "<style scoped>\n",
              "  .ansiout {\n",
              "    display: block;\n",
              "    unicode-bidi: embed;\n",
              "    white-space: pre-wrap;\n",
              "    word-wrap: break-word;\n",
              "    word-break: break-all;\n",
              "    font-family: \"Source Code Pro\", \"Menlo\", monospace;;\n",
              "    font-size: 13px;\n",
              "    color: #555;\n",
              "    margin-left: 4px;\n",
              "    line-height: 19px;\n",
              "  }\n",
              "</style>\n",
              "<div class=\"ansiout\">+----+-------+\n",
              "e_id|salario|\n",
              "+----+-------+\n",
              "   1|  10000|\n",
              "   2|  12000|\n",
              "   3|  12000|\n",
              "   4|   null|\n",
              "   5|    120|\n",
              "+----+-------+\n",
              "only showing top 5 rows\n",
              "\n",
              "</div>"
            ]
          },
          "metadata": {
            "tags": []
          }
        }
      ]
    },
    {
      "cell_type": "code",
      "metadata": {
        "id": "n2Eb2SU34Sod",
        "colab_type": "code",
        "colab": {},
        "outputId": "b27d6f4b-76a6-49b9-b179-9b8fccfcc2ac"
      },
      "source": [
        "ocupacao = spark.read.json(diretorioDatasetOcup) #lê os dados do diretório"
      ],
      "execution_count": null,
      "outputs": [
        {
          "output_type": "display_data",
          "data": {
            "text/html": [
              "<style scoped>\n",
              "  .ansiout {\n",
              "    display: block;\n",
              "    unicode-bidi: embed;\n",
              "    white-space: pre-wrap;\n",
              "    word-wrap: break-word;\n",
              "    word-break: break-all;\n",
              "    font-family: \"Source Code Pro\", \"Menlo\", monospace;;\n",
              "    font-size: 13px;\n",
              "    color: #555;\n",
              "    margin-left: 4px;\n",
              "    line-height: 19px;\n",
              "  }\n",
              "</style>\n",
              "<div class=\"ansiout\"></div>"
            ]
          },
          "metadata": {
            "tags": []
          }
        }
      ]
    },
    {
      "cell_type": "code",
      "metadata": {
        "id": "JvJnUR-p4Sof",
        "colab_type": "code",
        "colab": {},
        "outputId": "661a3dc6-069f-4ecb-bd73-8ff58a70084b"
      },
      "source": [
        "ocupacao.show(5)"
      ],
      "execution_count": null,
      "outputs": [
        {
          "output_type": "display_data",
          "data": {
            "text/html": [
              "<style scoped>\n",
              "  .ansiout {\n",
              "    display: block;\n",
              "    unicode-bidi: embed;\n",
              "    white-space: pre-wrap;\n",
              "    word-wrap: break-word;\n",
              "    word-break: break-all;\n",
              "    font-family: \"Source Code Pro\", \"Menlo\", monospace;;\n",
              "    font-size: 13px;\n",
              "    color: #555;\n",
              "    margin-left: 4px;\n",
              "    line-height: 19px;\n",
              "  }\n",
              "</style>\n",
              "<div class=\"ansiout\">+---------+---+\n",
              "    cargo| id|\n",
              "+---------+---+\n",
              "Associado|  1|\n",
              "  Gerente|  2|\n",
              "  Gerente|  3|\n",
              "Associado|  4|\n",
              "  Gerente|  5|\n",
              "+---------+---+\n",
              "only showing top 5 rows\n",
              "\n",
              "</div>"
            ]
          },
          "metadata": {
            "tags": []
          }
        }
      ]
    },
    {
      "cell_type": "markdown",
      "metadata": {
        "id": "7b3YHVoN4Sog",
        "colab_type": "text"
      },
      "source": [
        "Preparação dos dados"
      ]
    },
    {
      "cell_type": "code",
      "metadata": {
        "id": "qf92XdkS4Sog",
        "colab_type": "code",
        "colab": {},
        "outputId": "4c57ae14-b520-44af-8007-e424e656d633"
      },
      "source": [
        "#consolidação dos dados\n",
        "df_final = empregados.join(salario, empregados.emp_id == salario.e_id).join(ocupacao, empregados.emp_id == ocupacao.id).select(\"e_id\", \"nome\", \"idade\", \"cargo\", \"salario\")"
      ],
      "execution_count": null,
      "outputs": [
        {
          "output_type": "display_data",
          "data": {
            "text/html": [
              "<style scoped>\n",
              "  .ansiout {\n",
              "    display: block;\n",
              "    unicode-bidi: embed;\n",
              "    white-space: pre-wrap;\n",
              "    word-wrap: break-word;\n",
              "    word-break: break-all;\n",
              "    font-family: \"Source Code Pro\", \"Menlo\", monospace;;\n",
              "    font-size: 13px;\n",
              "    color: #555;\n",
              "    margin-left: 4px;\n",
              "    line-height: 19px;\n",
              "  }\n",
              "</style>\n",
              "<div class=\"ansiout\"></div>"
            ]
          },
          "metadata": {
            "tags": []
          }
        }
      ]
    },
    {
      "cell_type": "code",
      "metadata": {
        "id": "Dr5g3afa4Soi",
        "colab_type": "code",
        "colab": {},
        "outputId": "3c734ea9-e1f2-4685-f595-42e56b3d166a"
      },
      "source": [
        "df_final.show()"
      ],
      "execution_count": null,
      "outputs": [
        {
          "output_type": "display_data",
          "data": {
            "text/html": [
              "<style scoped>\n",
              "  .ansiout {\n",
              "    display: block;\n",
              "    unicode-bidi: embed;\n",
              "    white-space: pre-wrap;\n",
              "    word-wrap: break-word;\n",
              "    word-break: break-all;\n",
              "    font-family: \"Source Code Pro\", \"Menlo\", monospace;;\n",
              "    font-size: 13px;\n",
              "    color: #555;\n",
              "    margin-left: 4px;\n",
              "    line-height: 19px;\n",
              "  }\n",
              "</style>\n",
              "<div class=\"ansiout\">+----+--------+-----+--------------+-------+\n",
              "e_id|    nome|idade|         cargo|salario|\n",
              "+----+--------+-----+--------------+-------+\n",
              "   1|    Joao|   25|     Associado|  10000|\n",
              "   2| Ricardo|   35|       Gerente|  12000|\n",
              "   3|  Marcio|   24|       Gerente|  12000|\n",
              "   4|  Janete|   28|     Associado|   null|\n",
              "   5|    Kely|   26|       Gerente|    120|\n",
              "   6| Vicente|   35|Gerente Senior|  22000|\n",
              "   7|  Jander|   38|Gerente Senior|  20000|\n",
              "   8|   Maria|   32|       Gerente|  12000|\n",
              "   9| Gabriel|   29|       Gerente|  10000|\n",
              "  10|Kimberly|   29|     Associado|   8000|\n",
              "  11|    Alex|   28|       Gerente|  12000|\n",
              "  12| Gustavo|   25|       Gerente|  12000|\n",
              "  13|  Rafael|   31|       Gerente| 120000|\n",
              "+----+--------+-----+--------------+-------+\n",
              "\n",
              "</div>"
            ]
          },
          "metadata": {
            "tags": []
          }
        }
      ]
    },
    {
      "cell_type": "markdown",
      "metadata": {
        "id": "58IIfq9k4Soj",
        "colab_type": "text"
      },
      "source": [
        "Limpando os dados"
      ]
    },
    {
      "cell_type": "code",
      "metadata": {
        "id": "wREc-CNq4Sok",
        "colab_type": "code",
        "colab": {},
        "outputId": "4d7cde6b-89f0-41e9-fe5a-cc73f1ea91fc"
      },
      "source": [
        "#retirando os valores NaN\n",
        "clean_data = df_final.na.drop()"
      ],
      "execution_count": null,
      "outputs": [
        {
          "output_type": "display_data",
          "data": {
            "text/html": [
              "<style scoped>\n",
              "  .ansiout {\n",
              "    display: block;\n",
              "    unicode-bidi: embed;\n",
              "    white-space: pre-wrap;\n",
              "    word-wrap: break-word;\n",
              "    word-break: break-all;\n",
              "    font-family: \"Source Code Pro\", \"Menlo\", monospace;;\n",
              "    font-size: 13px;\n",
              "    color: #555;\n",
              "    margin-left: 4px;\n",
              "    line-height: 19px;\n",
              "  }\n",
              "</style>\n",
              "<div class=\"ansiout\"></div>"
            ]
          },
          "metadata": {
            "tags": []
          }
        }
      ]
    },
    {
      "cell_type": "code",
      "metadata": {
        "id": "a3-dXC014Sol",
        "colab_type": "code",
        "colab": {},
        "outputId": "8ed8d97c-f845-4180-db52-796b3fb1a5f9"
      },
      "source": [
        "clean_data.show()"
      ],
      "execution_count": null,
      "outputs": [
        {
          "output_type": "display_data",
          "data": {
            "text/html": [
              "<style scoped>\n",
              "  .ansiout {\n",
              "    display: block;\n",
              "    unicode-bidi: embed;\n",
              "    white-space: pre-wrap;\n",
              "    word-wrap: break-word;\n",
              "    word-break: break-all;\n",
              "    font-family: \"Source Code Pro\", \"Menlo\", monospace;;\n",
              "    font-size: 13px;\n",
              "    color: #555;\n",
              "    margin-left: 4px;\n",
              "    line-height: 19px;\n",
              "  }\n",
              "</style>\n",
              "<div class=\"ansiout\">+----+--------+-----+--------------+-------+\n",
              "e_id|    nome|idade|         cargo|salario|\n",
              "+----+--------+-----+--------------+-------+\n",
              "   1|    Joao|   25|     Associado|  10000|\n",
              "   2| Ricardo|   35|       Gerente|  12000|\n",
              "   3|  Marcio|   24|       Gerente|  12000|\n",
              "   5|    Kely|   26|       Gerente|    120|\n",
              "   6| Vicente|   35|Gerente Senior|  22000|\n",
              "   7|  Jander|   38|Gerente Senior|  20000|\n",
              "   8|   Maria|   32|       Gerente|  12000|\n",
              "   9| Gabriel|   29|       Gerente|  10000|\n",
              "  10|Kimberly|   29|     Associado|   8000|\n",
              "  11|    Alex|   28|       Gerente|  12000|\n",
              "  12| Gustavo|   25|       Gerente|  12000|\n",
              "  13|  Rafael|   31|       Gerente| 120000|\n",
              "+----+--------+-----+--------------+-------+\n",
              "\n",
              "</div>"
            ]
          },
          "metadata": {
            "tags": []
          }
        }
      ]
    },
    {
      "cell_type": "markdown",
      "metadata": {
        "id": "L18HkCf74Son",
        "colab_type": "text"
      },
      "source": [
        "Substituindo o Nan pelo valor médio da coluna"
      ]
    },
    {
      "cell_type": "code",
      "metadata": {
        "id": "0Mmje2-64Son",
        "colab_type": "code",
        "colab": {},
        "outputId": "ac9d564f-c8be-4e55-81f2-818c735b4194"
      },
      "source": [
        "#substituindo os valores NaN pela média\n",
        "import math  #utilizado para aplicar algumas funções matematicas\n",
        "from pyspark.sql import functions as F  #contem as funções da linguagem SQL"
      ],
      "execution_count": null,
      "outputs": [
        {
          "output_type": "display_data",
          "data": {
            "text/html": [
              "<style scoped>\n",
              "  .ansiout {\n",
              "    display: block;\n",
              "    unicode-bidi: embed;\n",
              "    white-space: pre-wrap;\n",
              "    word-wrap: break-word;\n",
              "    word-break: break-all;\n",
              "    font-family: \"Source Code Pro\", \"Menlo\", monospace;;\n",
              "    font-size: 13px;\n",
              "    color: #555;\n",
              "    margin-left: 4px;\n",
              "    line-height: 19px;\n",
              "  }\n",
              "</style>\n",
              "<div class=\"ansiout\"></div>"
            ]
          },
          "metadata": {
            "tags": []
          }
        }
      ]
    },
    {
      "cell_type": "code",
      "metadata": {
        "id": "4Emz3xP14Sop",
        "colab_type": "code",
        "colab": {},
        "outputId": "409c2ba2-c661-46cd-b951-a1468e0ec93b"
      },
      "source": [
        "#encontrando a média dos salários\n",
        "salario_medio = math.floor(salario.select(F.mean('salario')).collect()[0][0])\n",
        "print(salario_medio)"
      ],
      "execution_count": null,
      "outputs": [
        {
          "output_type": "display_data",
          "data": {
            "text/html": [
              "<style scoped>\n",
              "  .ansiout {\n",
              "    display: block;\n",
              "    unicode-bidi: embed;\n",
              "    white-space: pre-wrap;\n",
              "    word-wrap: break-word;\n",
              "    word-break: break-all;\n",
              "    font-family: \"Source Code Pro\", \"Menlo\", monospace;;\n",
              "    font-size: 13px;\n",
              "    color: #555;\n",
              "    margin-left: 4px;\n",
              "    line-height: 19px;\n",
              "  }\n",
              "</style>\n",
              "<div class=\"ansiout\">20843\n",
              "</div>"
            ]
          },
          "metadata": {
            "tags": []
          }
        }
      ]
    },
    {
      "cell_type": "code",
      "metadata": {
        "id": "GNT8eQh64Soq",
        "colab_type": "code",
        "colab": {},
        "outputId": "82f02669-3964-436c-a98f-fd8b69fcb48d"
      },
      "source": [
        "clean_data = df_final.na.fill({'salario' : salario_medio})"
      ],
      "execution_count": null,
      "outputs": [
        {
          "output_type": "display_data",
          "data": {
            "text/html": [
              "<style scoped>\n",
              "  .ansiout {\n",
              "    display: block;\n",
              "    unicode-bidi: embed;\n",
              "    white-space: pre-wrap;\n",
              "    word-wrap: break-word;\n",
              "    word-break: break-all;\n",
              "    font-family: \"Source Code Pro\", \"Menlo\", monospace;;\n",
              "    font-size: 13px;\n",
              "    color: #555;\n",
              "    margin-left: 4px;\n",
              "    line-height: 19px;\n",
              "  }\n",
              "</style>\n",
              "<div class=\"ansiout\"></div>"
            ]
          },
          "metadata": {
            "tags": []
          }
        }
      ]
    },
    {
      "cell_type": "code",
      "metadata": {
        "id": "m4T6UAL-4Sor",
        "colab_type": "code",
        "colab": {},
        "outputId": "4880d7ff-1fb8-40ec-94b7-4de74eaf7609"
      },
      "source": [
        "clean_data.show()"
      ],
      "execution_count": null,
      "outputs": [
        {
          "output_type": "display_data",
          "data": {
            "text/html": [
              "<style scoped>\n",
              "  .ansiout {\n",
              "    display: block;\n",
              "    unicode-bidi: embed;\n",
              "    white-space: pre-wrap;\n",
              "    word-wrap: break-word;\n",
              "    word-break: break-all;\n",
              "    font-family: \"Source Code Pro\", \"Menlo\", monospace;;\n",
              "    font-size: 13px;\n",
              "    color: #555;\n",
              "    margin-left: 4px;\n",
              "    line-height: 19px;\n",
              "  }\n",
              "</style>\n",
              "<div class=\"ansiout\">+----+--------+-----+--------------+-------+\n",
              "e_id|    nome|idade|         cargo|salario|\n",
              "+----+--------+-----+--------------+-------+\n",
              "   1|    Joao|   25|     Associado|  10000|\n",
              "   2| Ricardo|   35|       Gerente|  12000|\n",
              "   3|  Marcio|   24|       Gerente|  12000|\n",
              "   4|  Janete|   28|     Associado|  20843|\n",
              "   5|    Kely|   26|       Gerente|    120|\n",
              "   6| Vicente|   35|Gerente Senior|  22000|\n",
              "   7|  Jander|   38|Gerente Senior|  20000|\n",
              "   8|   Maria|   32|       Gerente|  12000|\n",
              "   9| Gabriel|   29|       Gerente|  10000|\n",
              "  10|Kimberly|   29|     Associado|   8000|\n",
              "  11|    Alex|   28|       Gerente|  12000|\n",
              "  12| Gustavo|   25|       Gerente|  12000|\n",
              "  13|  Rafael|   31|       Gerente| 120000|\n",
              "+----+--------+-----+--------------+-------+\n",
              "\n",
              "</div>"
            ]
          },
          "metadata": {
            "tags": []
          }
        }
      ]
    },
    {
      "cell_type": "code",
      "metadata": {
        "id": "axGXA-8d4Sot",
        "colab_type": "code",
        "colab": {},
        "outputId": "da9e50af-f3ad-4ec6-ca07-181b7af2a826"
      },
      "source": [
        "#outro exemplo de preparação\n",
        "autores = [['Thomas','Hardy','June 2, 1840'],\\\n",
        "       ['Charles','Dickens','7 February 1812'],\\\n",
        "        ['Mark','Twain',None],\\\n",
        "        ['Jane','Austen','16 December 1775'],\\\n",
        "      ['Emily',None,None]]\n",
        "df_autores = spark.sparkContext.parallelize(autores).toDF(\n",
        "       [\"PrimeiroNome\",\"UltimoNome\",\"Dob\"])"
      ],
      "execution_count": null,
      "outputs": [
        {
          "output_type": "display_data",
          "data": {
            "text/html": [
              "<style scoped>\n",
              "  .ansiout {\n",
              "    display: block;\n",
              "    unicode-bidi: embed;\n",
              "    white-space: pre-wrap;\n",
              "    word-wrap: break-word;\n",
              "    word-break: break-all;\n",
              "    font-family: \"Source Code Pro\", \"Menlo\", monospace;;\n",
              "    font-size: 13px;\n",
              "    color: #555;\n",
              "    margin-left: 4px;\n",
              "    line-height: 19px;\n",
              "  }\n",
              "</style>\n",
              "<div class=\"ansiout\"></div>"
            ]
          },
          "metadata": {
            "tags": []
          }
        }
      ]
    },
    {
      "cell_type": "code",
      "metadata": {
        "id": "kzcJGxLK4Sou",
        "colab_type": "code",
        "colab": {},
        "outputId": "ff58b264-e1d4-49a3-b3e0-af4263369572"
      },
      "source": [
        "df_autores.show()"
      ],
      "execution_count": null,
      "outputs": [
        {
          "output_type": "display_data",
          "data": {
            "text/html": [
              "<style scoped>\n",
              "  .ansiout {\n",
              "    display: block;\n",
              "    unicode-bidi: embed;\n",
              "    white-space: pre-wrap;\n",
              "    word-wrap: break-word;\n",
              "    word-break: break-all;\n",
              "    font-family: \"Source Code Pro\", \"Menlo\", monospace;;\n",
              "    font-size: 13px;\n",
              "    color: #555;\n",
              "    margin-left: 4px;\n",
              "    line-height: 19px;\n",
              "  }\n",
              "</style>\n",
              "<div class=\"ansiout\">+------------+----------+----------------+\n",
              "PrimeiroNome|UltimoNome|             Dob|\n",
              "+------------+----------+----------------+\n",
              "      Thomas|     Hardy|    June 2, 1840|\n",
              "     Charles|   Dickens| 7 February 1812|\n",
              "        Mark|     Twain|            null|\n",
              "        Jane|    Austen|16 December 1775|\n",
              "       Emily|      null|            null|\n",
              "+------------+----------+----------------+\n",
              "\n",
              "</div>"
            ]
          },
          "metadata": {
            "tags": []
          }
        }
      ]
    },
    {
      "cell_type": "markdown",
      "metadata": {
        "id": "Xe0XmqY84Sov",
        "colab_type": "text"
      },
      "source": [
        "Tratando valores duplicados"
      ]
    },
    {
      "cell_type": "code",
      "metadata": {
        "id": "9J-dqZMJ4Sow",
        "colab_type": "code",
        "colab": {},
        "outputId": "3fc922d7-26ea-4d87-d13d-dce3052bba91"
      },
      "source": [
        "autores = [['Thomas','Hardy','June 2,1840'],\\\n",
        "    ['Thomas','Hardy','June 2,1840'],\\\n",
        "    ['Thomas','H',None],\\\n",
        "    ['Jane','Austen','16 December 1775'],\\\n",
        "    ['Emily',None,None]]"
      ],
      "execution_count": null,
      "outputs": [
        {
          "output_type": "display_data",
          "data": {
            "text/html": [
              "<style scoped>\n",
              "  .ansiout {\n",
              "    display: block;\n",
              "    unicode-bidi: embed;\n",
              "    white-space: pre-wrap;\n",
              "    word-wrap: break-word;\n",
              "    word-break: break-all;\n",
              "    font-family: \"Source Code Pro\", \"Menlo\", monospace;;\n",
              "    font-size: 13px;\n",
              "    color: #555;\n",
              "    margin-left: 4px;\n",
              "    line-height: 19px;\n",
              "  }\n",
              "</style>\n",
              "<div class=\"ansiout\"></div>"
            ]
          },
          "metadata": {
            "tags": []
          }
        }
      ]
    },
    {
      "cell_type": "code",
      "metadata": {
        "id": "qxpiXAAh4Sox",
        "colab_type": "code",
        "colab": {},
        "outputId": "993e15a6-31bf-4078-9e6a-39451bd2a373"
      },
      "source": [
        "df_autores = spark.sparkContext.parallelize(autores).toDF(\n",
        "      [\"PrimeiroNome\",\"UltimoNome\",\"Dob\"])"
      ],
      "execution_count": null,
      "outputs": [
        {
          "output_type": "display_data",
          "data": {
            "text/html": [
              "<style scoped>\n",
              "  .ansiout {\n",
              "    display: block;\n",
              "    unicode-bidi: embed;\n",
              "    white-space: pre-wrap;\n",
              "    word-wrap: break-word;\n",
              "    word-break: break-all;\n",
              "    font-family: \"Source Code Pro\", \"Menlo\", monospace;;\n",
              "    font-size: 13px;\n",
              "    color: #555;\n",
              "    margin-left: 4px;\n",
              "    line-height: 19px;\n",
              "  }\n",
              "</style>\n",
              "<div class=\"ansiout\"></div>"
            ]
          },
          "metadata": {
            "tags": []
          }
        }
      ]
    },
    {
      "cell_type": "code",
      "metadata": {
        "id": "8YMhu-i14Sox",
        "colab_type": "code",
        "colab": {},
        "outputId": "aa410aea-cd82-4f0e-fccb-45a9302518e0"
      },
      "source": [
        "df_autores.show()"
      ],
      "execution_count": null,
      "outputs": [
        {
          "output_type": "display_data",
          "data": {
            "text/html": [
              "<style scoped>\n",
              "  .ansiout {\n",
              "    display: block;\n",
              "    unicode-bidi: embed;\n",
              "    white-space: pre-wrap;\n",
              "    word-wrap: break-word;\n",
              "    word-break: break-all;\n",
              "    font-family: \"Source Code Pro\", \"Menlo\", monospace;;\n",
              "    font-size: 13px;\n",
              "    color: #555;\n",
              "    margin-left: 4px;\n",
              "    line-height: 19px;\n",
              "  }\n",
              "</style>\n",
              "<div class=\"ansiout\">+------------+----------+----------------+\n",
              "PrimeiroNome|UltimoNome|             Dob|\n",
              "+------------+----------+----------------+\n",
              "      Thomas|     Hardy|     June 2,1840|\n",
              "      Thomas|     Hardy|     June 2,1840|\n",
              "      Thomas|         H|            null|\n",
              "        Jane|    Austen|16 December 1775|\n",
              "       Emily|      null|            null|\n",
              "+------------+----------+----------------+\n",
              "\n",
              "</div>"
            ]
          },
          "metadata": {
            "tags": []
          }
        }
      ]
    },
    {
      "cell_type": "code",
      "metadata": {
        "id": "qwug_Bac4Soz",
        "colab_type": "code",
        "colab": {},
        "outputId": "171cc69e-87a7-46cd-dbd6-83f0b068708a"
      },
      "source": [
        "#Retirando as linhas duplicadas\n",
        "df_autores.dropDuplicates().show()"
      ],
      "execution_count": null,
      "outputs": [
        {
          "output_type": "display_data",
          "data": {
            "text/html": [
              "<style scoped>\n",
              "  .ansiout {\n",
              "    display: block;\n",
              "    unicode-bidi: embed;\n",
              "    white-space: pre-wrap;\n",
              "    word-wrap: break-word;\n",
              "    word-break: break-all;\n",
              "    font-family: \"Source Code Pro\", \"Menlo\", monospace;;\n",
              "    font-size: 13px;\n",
              "    color: #555;\n",
              "    margin-left: 4px;\n",
              "    line-height: 19px;\n",
              "  }\n",
              "</style>\n",
              "<div class=\"ansiout\">+------------+----------+----------------+\n",
              "PrimeiroNome|UltimoNome|             Dob|\n",
              "+------------+----------+----------------+\n",
              "        Jane|    Austen|16 December 1775|\n",
              "       Emily|      null|            null|\n",
              "      Thomas|     Hardy|     June 2,1840|\n",
              "      Thomas|         H|            null|\n",
              "+------------+----------+----------------+\n",
              "\n",
              "</div>"
            ]
          },
          "metadata": {
            "tags": []
          }
        }
      ]
    },
    {
      "cell_type": "markdown",
      "metadata": {
        "id": "d0zbY7dP4So0",
        "colab_type": "text"
      },
      "source": [
        "Transformando os dados"
      ]
    },
    {
      "cell_type": "code",
      "metadata": {
        "id": "EvNDEuoY4So0",
        "colab_type": "code",
        "colab": {},
        "outputId": "44897373-12d2-4b96-98c1-e9e314e5f391"
      },
      "source": [
        "#utiliza a diretriz UDF para criar a função a ser aplicada a cada uma das celulas selecionadas\n",
        "concat_func = F.udf(lambda nome, idade: nome + \"_\" + str(idade))"
      ],
      "execution_count": null,
      "outputs": [
        {
          "output_type": "display_data",
          "data": {
            "text/html": [
              "<style scoped>\n",
              "  .ansiout {\n",
              "    display: block;\n",
              "    unicode-bidi: embed;\n",
              "    white-space: pre-wrap;\n",
              "    word-wrap: break-word;\n",
              "    word-break: break-all;\n",
              "    font-family: \"Source Code Pro\", \"Menlo\", monospace;;\n",
              "    font-size: 13px;\n",
              "    color: #555;\n",
              "    margin-left: 4px;\n",
              "    line-height: 19px;\n",
              "  }\n",
              "</style>\n",
              "<div class=\"ansiout\"></div>"
            ]
          },
          "metadata": {
            "tags": []
          }
        }
      ]
    },
    {
      "cell_type": "code",
      "metadata": {
        "id": "6mnOpPJG4So1",
        "colab_type": "code",
        "colab": {},
        "outputId": "1d754d8c-3763-456f-dbe1-e43d8fed1004"
      },
      "source": [
        "#aplica a função UDF (concat_func) para criar o novo dataframe\n",
        "concat_df = df_final.withColumn(\"nome_idade\", concat_func(df_final.nome, df_final.idade))"
      ],
      "execution_count": null,
      "outputs": [
        {
          "output_type": "display_data",
          "data": {
            "text/html": [
              "<style scoped>\n",
              "  .ansiout {\n",
              "    display: block;\n",
              "    unicode-bidi: embed;\n",
              "    white-space: pre-wrap;\n",
              "    word-wrap: break-word;\n",
              "    word-break: break-all;\n",
              "    font-family: \"Source Code Pro\", \"Menlo\", monospace;;\n",
              "    font-size: 13px;\n",
              "    color: #555;\n",
              "    margin-left: 4px;\n",
              "    line-height: 19px;\n",
              "  }\n",
              "</style>\n",
              "<div class=\"ansiout\"></div>"
            ]
          },
          "metadata": {
            "tags": []
          }
        }
      ]
    },
    {
      "cell_type": "code",
      "metadata": {
        "id": "2MDhPKVw4So2",
        "colab_type": "code",
        "colab": {},
        "outputId": "d8aa1706-6e13-442f-b01b-511fe702fa2c"
      },
      "source": [
        "concat_df.show()"
      ],
      "execution_count": null,
      "outputs": [
        {
          "output_type": "display_data",
          "data": {
            "text/html": [
              "<style scoped>\n",
              "  .ansiout {\n",
              "    display: block;\n",
              "    unicode-bidi: embed;\n",
              "    white-space: pre-wrap;\n",
              "    word-wrap: break-word;\n",
              "    word-break: break-all;\n",
              "    font-family: \"Source Code Pro\", \"Menlo\", monospace;;\n",
              "    font-size: 13px;\n",
              "    color: #555;\n",
              "    margin-left: 4px;\n",
              "    line-height: 19px;\n",
              "  }\n",
              "</style>\n",
              "<div class=\"ansiout\">+----+--------+-----+--------------+-------+-----------+\n",
              "e_id|    nome|idade|         cargo|salario| nome_idade|\n",
              "+----+--------+-----+--------------+-------+-----------+\n",
              "   1|    Joao|   25|     Associado|  10000|    Joao_25|\n",
              "   2| Ricardo|   35|       Gerente|  12000| Ricardo_35|\n",
              "   3|  Marcio|   24|       Gerente|  12000|  Marcio_24|\n",
              "   4|  Janete|   28|     Associado|   null|  Janete_28|\n",
              "   5|    Kely|   26|       Gerente|    120|    Kely_26|\n",
              "   6| Vicente|   35|Gerente Senior|  22000| Vicente_35|\n",
              "   7|  Jander|   38|Gerente Senior|  20000|  Jander_38|\n",
              "   8|   Maria|   32|       Gerente|  12000|   Maria_32|\n",
              "   9| Gabriel|   29|       Gerente|  10000| Gabriel_29|\n",
              "  10|Kimberly|   29|     Associado|   8000|Kimberly_29|\n",
              "  11|    Alex|   28|       Gerente|  12000|    Alex_28|\n",
              "  12| Gustavo|   25|       Gerente|  12000| Gustavo_25|\n",
              "  13|  Rafael|   31|       Gerente| 120000|  Rafael_31|\n",
              "+----+--------+-----+--------------+-------+-----------+\n",
              "\n",
              "</div>"
            ]
          },
          "metadata": {
            "tags": []
          }
        }
      ]
    },
    {
      "cell_type": "code",
      "metadata": {
        "id": "wCMEVfCv4So3",
        "colab_type": "code",
        "colab": {},
        "outputId": "c9fee448-705e-47d6-e499-d60abf51b4d5"
      },
      "source": [
        "#cria a função que transforma o salario de reais para dólares\n",
        "from pyspark.sql.types import LongType\n",
        "def realDolar(salario):\n",
        "  return salario*0.25\n",
        "real_dolar = F.udf(lambda salario: realDolar(salario),LongType())"
      ],
      "execution_count": null,
      "outputs": [
        {
          "output_type": "display_data",
          "data": {
            "text/html": [
              "<style scoped>\n",
              "  .ansiout {\n",
              "    display: block;\n",
              "    unicode-bidi: embed;\n",
              "    white-space: pre-wrap;\n",
              "    word-wrap: break-word;\n",
              "    word-break: break-all;\n",
              "    font-family: \"Source Code Pro\", \"Menlo\", monospace;;\n",
              "    font-size: 13px;\n",
              "    color: #555;\n",
              "    margin-left: 4px;\n",
              "    line-height: 19px;\n",
              "  }\n",
              "</style>\n",
              "<div class=\"ansiout\"></div>"
            ]
          },
          "metadata": {
            "tags": []
          }
        }
      ]
    },
    {
      "cell_type": "code",
      "metadata": {
        "id": "R6JHepkN4So4",
        "colab_type": "code",
        "colab": {},
        "outputId": "d6a74699-701a-4647-aac7-b4115bb093f6"
      },
      "source": [
        "#aplica a função UDF (real_dolar) para criar o novo dataframe\n",
        "df_real_dolar = df_final.withColumn(\"salario_dolar\", real_dolar(df_final.salario))"
      ],
      "execution_count": null,
      "outputs": [
        {
          "output_type": "display_data",
          "data": {
            "text/html": [
              "<style scoped>\n",
              "  .ansiout {\n",
              "    display: block;\n",
              "    unicode-bidi: embed;\n",
              "    white-space: pre-wrap;\n",
              "    word-wrap: break-word;\n",
              "    word-break: break-all;\n",
              "    font-family: \"Source Code Pro\", \"Menlo\", monospace;;\n",
              "    font-size: 13px;\n",
              "    color: #555;\n",
              "    margin-left: 4px;\n",
              "    line-height: 19px;\n",
              "  }\n",
              "</style>\n",
              "<div class=\"ansiout\"></div>"
            ]
          },
          "metadata": {
            "tags": []
          }
        }
      ]
    },
    {
      "cell_type": "markdown",
      "metadata": {
        "id": "-Q6aVeh14So5",
        "colab_type": "text"
      },
      "source": [
        "Correlações"
      ]
    },
    {
      "cell_type": "code",
      "metadata": {
        "id": "54D01TKr4So5",
        "colab_type": "code",
        "colab": {},
        "outputId": "1ea717e9-4603-4e6e-a811-a0f4c239f752"
      },
      "source": [
        "from pyspark.mllib.stat import Statistics"
      ],
      "execution_count": null,
      "outputs": [
        {
          "output_type": "display_data",
          "data": {
            "text/html": [
              "<style scoped>\n",
              "  .ansiout {\n",
              "    display: block;\n",
              "    unicode-bidi: embed;\n",
              "    white-space: pre-wrap;\n",
              "    word-wrap: break-word;\n",
              "    word-break: break-all;\n",
              "    font-family: \"Source Code Pro\", \"Menlo\", monospace;;\n",
              "    font-size: 13px;\n",
              "    color: #555;\n",
              "    margin-left: 4px;\n",
              "    line-height: 19px;\n",
              "  }\n",
              "</style>\n",
              "<div class=\"ansiout\"></div>"
            ]
          },
          "metadata": {
            "tags": []
          }
        }
      ]
    },
    {
      "cell_type": "code",
      "metadata": {
        "id": "BPhiTSpA4So6",
        "colab_type": "code",
        "colab": {},
        "outputId": "76278954-9b82-4f5b-d10d-80785f1b3e85"
      },
      "source": [
        "#cria duas series para encontrar a correlação\n",
        "import random #utilizada pra gerar valores randomicos\n",
        "serie_1 = spark.sparkContext.parallelize(random.sample(range(1,101),10)) #cria valores randomicos\n",
        "serie_2 = spark.sparkContext.parallelize(random.sample(range(1,101),10)) #cria valores randômicos\n",
        "serie_3=serie_1.map(realDolar)  #aplica a transformação (realDolar) sobre a serie 1"
      ],
      "execution_count": null,
      "outputs": [
        {
          "output_type": "display_data",
          "data": {
            "text/html": [
              "<style scoped>\n",
              "  .ansiout {\n",
              "    display: block;\n",
              "    unicode-bidi: embed;\n",
              "    white-space: pre-wrap;\n",
              "    word-wrap: break-word;\n",
              "    word-break: break-all;\n",
              "    font-family: \"Source Code Pro\", \"Menlo\", monospace;;\n",
              "    font-size: 13px;\n",
              "    color: #555;\n",
              "    margin-left: 4px;\n",
              "    line-height: 19px;\n",
              "  }\n",
              "</style>\n",
              "<div class=\"ansiout\"></div>"
            ]
          },
          "metadata": {
            "tags": []
          }
        }
      ]
    },
    {
      "cell_type": "code",
      "metadata": {
        "id": "Tvi_8wu34So7",
        "colab_type": "code",
        "colab": {},
        "outputId": "076936f5-0617-4459-ec2e-17edc94207c0"
      },
      "source": [
        "#aplicando a correlação\n",
        "correlacao = Statistics.corr(serie_1, serie_2, method = \"pearson\")\n",
        "print(correlacao)"
      ],
      "execution_count": null,
      "outputs": [
        {
          "output_type": "display_data",
          "data": {
            "text/html": [
              "<style scoped>\n",
              "  .ansiout {\n",
              "    display: block;\n",
              "    unicode-bidi: embed;\n",
              "    white-space: pre-wrap;\n",
              "    word-wrap: break-word;\n",
              "    word-break: break-all;\n",
              "    font-family: \"Source Code Pro\", \"Menlo\", monospace;;\n",
              "    font-size: 13px;\n",
              "    color: #555;\n",
              "    margin-left: 4px;\n",
              "    line-height: 19px;\n",
              "  }\n",
              "</style>\n",
              "<div class=\"ansiout\">-0.3867351747537137\n",
              "</div>"
            ]
          },
          "metadata": {
            "tags": []
          }
        }
      ]
    },
    {
      "cell_type": "code",
      "metadata": {
        "id": "bZfOsnne4So9",
        "colab_type": "code",
        "colab": {},
        "outputId": "bec0239d-7e6c-4813-e9c0-14b3952e86b1"
      },
      "source": [
        "#aplicando a correlação\n",
        "correlacao = Statistics.corr(serie_1, serie_3, method = \"pearson\")\n",
        "print(correlacao)"
      ],
      "execution_count": null,
      "outputs": [
        {
          "output_type": "display_data",
          "data": {
            "text/html": [
              "<style scoped>\n",
              "  .ansiout {\n",
              "    display: block;\n",
              "    unicode-bidi: embed;\n",
              "    white-space: pre-wrap;\n",
              "    word-wrap: break-word;\n",
              "    word-break: break-all;\n",
              "    font-family: \"Source Code Pro\", \"Menlo\", monospace;;\n",
              "    font-size: 13px;\n",
              "    color: #555;\n",
              "    margin-left: 4px;\n",
              "    line-height: 19px;\n",
              "  }\n",
              "</style>\n",
              "<div class=\"ansiout\">1.0000000000000002\n",
              "</div>"
            ]
          },
          "metadata": {
            "tags": []
          }
        }
      ]
    },
    {
      "cell_type": "markdown",
      "metadata": {
        "id": "Gk3ICRMa4So_",
        "colab_type": "text"
      },
      "source": [
        "Redução da Dimensionalidade"
      ]
    },
    {
      "cell_type": "code",
      "metadata": {
        "id": "tVBJMbIW4So_",
        "colab_type": "code",
        "colab": {},
        "outputId": "5b9e213f-91ff-4038-c170-3d3274e2125f"
      },
      "source": [
        "from pyspark.ml.feature import PCA  #define a utilização do PCA\n",
        "from pyspark.ml.linalg import Vectors #Utilizada para criar vetores com os dados"
      ],
      "execution_count": null,
      "outputs": [
        {
          "output_type": "display_data",
          "data": {
            "text/html": [
              "<style scoped>\n",
              "  .ansiout {\n",
              "    display: block;\n",
              "    unicode-bidi: embed;\n",
              "    white-space: pre-wrap;\n",
              "    word-wrap: break-word;\n",
              "    word-break: break-all;\n",
              "    font-family: \"Source Code Pro\", \"Menlo\", monospace;;\n",
              "    font-size: 13px;\n",
              "    color: #555;\n",
              "    margin-left: 4px;\n",
              "    line-height: 19px;\n",
              "  }\n",
              "</style>\n",
              "<div class=\"ansiout\"></div>"
            ]
          },
          "metadata": {
            "tags": []
          }
        }
      ]
    },
    {
      "cell_type": "code",
      "metadata": {
        "id": "wgyLmMYm4SpA",
        "colab_type": "code",
        "colab": {},
        "outputId": "403195d8-a446-49bf-a518-879e5fbf9d26"
      },
      "source": [
        "datasetDigitsDire=\"/FileStore/tables/digitsNew.csv\""
      ],
      "execution_count": null,
      "outputs": [
        {
          "output_type": "display_data",
          "data": {
            "text/html": [
              "<style scoped>\n",
              "  .ansiout {\n",
              "    display: block;\n",
              "    unicode-bidi: embed;\n",
              "    white-space: pre-wrap;\n",
              "    word-wrap: break-word;\n",
              "    word-break: break-all;\n",
              "    font-family: \"Source Code Pro\", \"Menlo\", monospace;;\n",
              "    font-size: 13px;\n",
              "    color: #555;\n",
              "    margin-left: 4px;\n",
              "    line-height: 19px;\n",
              "  }\n",
              "</style>\n",
              "<div class=\"ansiout\"></div>"
            ]
          },
          "metadata": {
            "tags": []
          }
        }
      ]
    },
    {
      "cell_type": "code",
      "metadata": {
        "id": "r4ZnnGlU4SpB",
        "colab_type": "code",
        "colab": {},
        "outputId": "b0ee1382-46f1-4923-d623-bcda0140b5b7"
      },
      "source": [
        "data = spark.read.csv(datasetDigitsDire, header=True, inferSchema=True) #carrega o arquivo\n"
      ],
      "execution_count": null,
      "outputs": [
        {
          "output_type": "display_data",
          "data": {
            "text/html": [
              "<style scoped>\n",
              "  .ansiout {\n",
              "    display: block;\n",
              "    unicode-bidi: embed;\n",
              "    white-space: pre-wrap;\n",
              "    word-wrap: break-word;\n",
              "    word-break: break-all;\n",
              "    font-family: \"Source Code Pro\", \"Menlo\", monospace;;\n",
              "    font-size: 13px;\n",
              "    color: #555;\n",
              "    margin-left: 4px;\n",
              "    line-height: 19px;\n",
              "  }\n",
              "</style>\n",
              "<div class=\"ansiout\"></div>"
            ]
          },
          "metadata": {
            "tags": []
          }
        }
      ]
    },
    {
      "cell_type": "code",
      "metadata": {
        "id": "kYORsDsn4SpC",
        "colab_type": "code",
        "colab": {},
        "outputId": "168585af-19b8-477b-d181-4d5776202bad"
      },
      "source": [
        "data.show(5)"
      ],
      "execution_count": null,
      "outputs": [
        {
          "output_type": "display_data",
          "data": {
            "text/html": [
              "<style scoped>\n",
              "  .ansiout {\n",
              "    display: block;\n",
              "    unicode-bidi: embed;\n",
              "    white-space: pre-wrap;\n",
              "    word-wrap: break-word;\n",
              "    word-break: break-all;\n",
              "    font-family: \"Source Code Pro\", \"Menlo\", monospace;;\n",
              "    font-size: 13px;\n",
              "    color: #555;\n",
              "    margin-left: 4px;\n",
              "    line-height: 19px;\n",
              "  }\n",
              "</style>\n",
              "<div class=\"ansiout\">+-----+------+------+------+------+------+------+------+------+------+------+-------+-------+-------+-------+-------+-------+-------+-------+-------+-------+-------+-------+-------+-------+-------+-------+-------+-------+-------+-------+-------+-------+-------+-------+-------+-------+-------+-------+-------+-------+-------+-------+-------+-------+-------+-------+-------+-------+-------+-------+-------+-------+-------+-------+-------+-------+-------+-------+-------+-------+-------+-------+-------+-------+-------+-------+-------+-------+-------+-------+-------+-------+-------+-------+-------+-------+-------+-------+-------+-------+-------+-------+-------+-------+-------+-------+-------+-------+-------+-------+-------+-------+-------+-------+-------+-------+-------+-------+-------+-------+--------+--------+--------+--------+--------+--------+--------+--------+--------+--------+--------+--------+--------+--------+--------+--------+--------+--------+--------+--------+--------+--------+--------+--------+--------+--------+--------+--------+--------+--------+--------+--------+--------+--------+--------+--------+--------+--------+--------+--------+--------+--------+--------+--------+--------+--------+--------+--------+--------+--------+--------+--------+--------+--------+--------+--------+--------+--------+--------+--------+--------+--------+--------+--------+--------+--------+--------+--------+--------+--------+--------+--------+--------+--------+--------+--------+--------+--------+--------+--------+--------+--------+--------+--------+--------+--------+--------+--------+--------+--------+--------+--------+--------+--------+--------+--------+--------+--------+--------+--------+--------+--------+--------+--------+--------+--------+--------+--------+--------+--------+--------+--------+--------+--------+--------+--------+--------+--------+--------+--------+--------+--------+--------+--------+--------+--------+--------+--------+--------+--------+--------+--------+--------+--------+--------+--------+--------+--------+--------+--------+--------+--------+--------+--------+--------+--------+--------+--------+--------+--------+--------+--------+--------+--------+--------+--------+--------+--------+--------+--------+--------+--------+--------+--------+--------+--------+--------+--------+--------+--------+--------+--------+--------+--------+--------+--------+--------+--------+--------+--------+--------+--------+--------+--------+--------+--------+--------+--------+--------+--------+--------+--------+--------+--------+--------+--------+--------+--------+--------+--------+--------+--------+--------+--------+--------+--------+--------+--------+--------+--------+--------+--------+--------+--------+--------+--------+--------+--------+--------+--------+--------+--------+--------+--------+--------+--------+--------+--------+--------+--------+--------+--------+--------+--------+--------+--------+--------+--------+--------+--------+--------+--------+--------+--------+--------+--------+--------+--------+--------+--------+--------+--------+--------+--------+--------+--------+--------+--------+--------+--------+--------+--------+--------+--------+--------+--------+--------+--------+--------+--------+--------+--------+--------+--------+--------+--------+--------+--------+--------+--------+--------+--------+--------+--------+--------+--------+--------+--------+--------+--------+--------+--------+--------+--------+--------+--------+--------+--------+--------+--------+--------+--------+--------+--------+--------+--------+--------+--------+--------+--------+--------+--------+--------+--------+--------+--------+--------+--------+--------+--------+--------+--------+--------+--------+--------+--------+--------+--------+--------+--------+--------+--------+--------+--------+--------+--------+--------+--------+--------+--------+--------+--------+--------+--------+--------+--------+--------+--------+--------+--------+--------+--------+--------+--------+--------+--------+--------+--------+--------+--------+--------+--------+--------+--------+--------+--------+--------+--------+--------+--------+--------+--------+--------+--------+--------+--------+--------+--------+--------+--------+--------+--------+--------+--------+--------+--------+--------+--------+--------+--------+--------+--------+--------+--------+--------+--------+--------+--------+--------+--------+--------+--------+--------+--------+--------+--------+--------+--------+--------+--------+--------+--------+--------+--------+--------+--------+--------+--------+--------+--------+--------+--------+--------+--------+--------+--------+--------+--------+--------+--------+--------+--------+--------+--------+--------+--------+--------+--------+--------+--------+--------+--------+--------+--------+--------+--------+--------+--------+--------+--------+--------+--------+--------+--------+--------+--------+--------+--------+--------+--------+--------+--------+--------+--------+--------+--------+--------+--------+--------+--------+--------+--------+--------+--------+--------+--------+--------+--------+--------+--------+--------+--------+--------+--------+--------+--------+--------+--------+--------+--------+--------+--------+--------+--------+--------+--------+--------+--------+--------+--------+--------+--------+--------+--------+--------+--------+--------+--------+--------+--------+--------+--------+--------+--------+--------+--------+--------+--------+--------+--------+--------+--------+--------+--------+--------+--------+--------+--------+--------+--------+--------+--------+--------+--------+--------+--------+--------+--------+--------+--------+--------+--------+--------+--------+--------+--------+--------+--------+--------+--------+--------+--------+--------+--------+--------+--------+--------+--------+--------+--------+--------+--------+--------+--------+--------+--------+--------+--------+--------+--------+--------+--------+--------+--------+--------+--------+--------+--------+--------+--------+--------+--------+--------+--------+--------+--------+--------+--------+--------+--------+--------+--------+--------+--------+--------+--------+--------+--------+--------+--------+--------+--------+--------+--------+--------+--------+--------+--------+--------+--------+--------+--------+--------+--------+--------+--------+--------+--------+--------+--------+--------+--------+--------+--------+--------+--------+--------+--------+--------+--------+--------+--------+--------+--------+--------+--------+--------+--------+--------+--------+--------+--------+--------+--------+--------+--------+--------+--------+--------+--------+--------+--------+--------+--------+--------+--------+--------+--------+--------+--------+--------+--------+--------+--------+--------+--------+--------+--------+--------+--------+--------+--------+--------+--------+--------+--------+--------+--------+--------+--------+--------+--------+--------+--------+\n",
              "label|pixel0|pixel1|pixel2|pixel3|pixel4|pixel5|pixel6|pixel7|pixel8|pixel9|pixel10|pixel11|pixel12|pixel13|pixel14|pixel15|pixel16|pixel17|pixel18|pixel19|pixel20|pixel21|pixel22|pixel23|pixel24|pixel25|pixel26|pixel27|pixel28|pixel29|pixel30|pixel31|pixel32|pixel33|pixel34|pixel35|pixel36|pixel37|pixel38|pixel39|pixel40|pixel41|pixel42|pixel43|pixel44|pixel45|pixel46|pixel47|pixel48|pixel49|pixel50|pixel51|pixel52|pixel53|pixel54|pixel55|pixel56|pixel57|pixel58|pixel59|pixel60|pixel61|pixel62|pixel63|pixel64|pixel65|pixel66|pixel67|pixel68|pixel69|pixel70|pixel71|pixel72|pixel73|pixel74|pixel75|pixel76|pixel77|pixel78|pixel79|pixel80|pixel81|pixel82|pixel83|pixel84|pixel85|pixel86|pixel87|pixel88|pixel89|pixel90|pixel91|pixel92|pixel93|pixel94|pixel95|pixel96|pixel97|pixel98|pixel99|pixel100|pixel101|pixel102|pixel103|pixel104|pixel105|pixel106|pixel107|pixel108|pixel109|pixel110|pixel111|pixel112|pixel113|pixel114|pixel115|pixel116|pixel117|pixel118|pixel119|pixel120|pixel121|pixel122|pixel123|pixel124|pixel125|pixel126|pixel127|pixel128|pixel129|pixel130|pixel131|pixel132|pixel133|pixel134|pixel135|pixel136|pixel137|pixel138|pixel139|pixel140|pixel141|pixel142|pixel143|pixel144|pixel145|pixel146|pixel147|pixel148|pixel149|pixel150|pixel151|pixel152|pixel153|pixel154|pixel155|pixel156|pixel157|pixel158|pixel159|pixel160|pixel161|pixel162|pixel163|pixel164|pixel165|pixel166|pixel167|pixel168|pixel169|pixel170|pixel171|pixel172|pixel173|pixel174|pixel175|pixel176|pixel177|pixel178|pixel179|pixel180|pixel181|pixel182|pixel183|pixel184|pixel185|pixel186|pixel187|pixel188|pixel189|pixel190|pixel191|pixel192|pixel193|pixel194|pixel195|pixel196|pixel197|pixel198|pixel199|pixel200|pixel201|pixel202|pixel203|pixel204|pixel205|pixel206|pixel207|pixel208|pixel209|pixel210|pixel211|pixel212|pixel213|pixel214|pixel215|pixel216|pixel217|pixel218|pixel219|pixel220|pixel221|pixel222|pixel223|pixel224|pixel225|pixel226|pixel227|pixel228|pixel229|pixel230|pixel231|pixel232|pixel233|pixel234|pixel235|pixel236|pixel237|pixel238|pixel239|pixel240|pixel241|pixel242|pixel243|pixel244|pixel245|pixel246|pixel247|pixel248|pixel249|pixel250|pixel251|pixel252|pixel253|pixel254|pixel255|pixel256|pixel257|pixel258|pixel259|pixel260|pixel261|pixel262|pixel263|pixel264|pixel265|pixel266|pixel267|pixel268|pixel269|pixel270|pixel271|pixel272|pixel273|pixel274|pixel275|pixel276|pixel277|pixel278|pixel279|pixel280|pixel281|pixel282|pixel283|pixel284|pixel285|pixel286|pixel287|pixel288|pixel289|pixel290|pixel291|pixel292|pixel293|pixel294|pixel295|pixel296|pixel297|pixel298|pixel299|pixel300|pixel301|pixel302|pixel303|pixel304|pixel305|pixel306|pixel307|pixel308|pixel309|pixel310|pixel311|pixel312|pixel313|pixel314|pixel315|pixel316|pixel317|pixel318|pixel319|pixel320|pixel321|pixel322|pixel323|pixel324|pixel325|pixel326|pixel327|pixel328|pixel329|pixel330|pixel331|pixel332|pixel333|pixel334|pixel335|pixel336|pixel337|pixel338|pixel339|pixel340|pixel341|pixel342|pixel343|pixel344|pixel345|pixel346|pixel347|pixel348|pixel349|pixel350|pixel351|pixel352|pixel353|pixel354|pixel355|pixel356|pixel357|pixel358|pixel359|pixel360|pixel361|pixel362|pixel363|pixel364|pixel365|pixel366|pixel367|pixel368|pixel369|pixel370|pixel371|pixel372|pixel373|pixel374|pixel375|pixel376|pixel377|pixel378|pixel379|pixel380|pixel381|pixel382|pixel383|pixel384|pixel385|pixel386|pixel387|pixel388|pixel389|pixel390|pixel391|pixel392|pixel393|pixel394|pixel395|pixel396|pixel397|pixel398|pixel399|pixel400|pixel401|pixel402|pixel403|pixel404|pixel405|pixel406|pixel407|pixel408|pixel409|pixel410|pixel411|pixel412|pixel413|pixel414|pixel415|pixel416|pixel417|pixel418|pixel419|pixel420|pixel421|pixel422|pixel423|pixel424|pixel425|pixel426|pixel427|pixel428|pixel429|pixel430|pixel431|pixel432|pixel433|pixel434|pixel435|pixel436|pixel437|pixel438|pixel439|pixel440|pixel441|pixel442|pixel443|pixel444|pixel445|pixel446|pixel447|pixel448|pixel449|pixel450|pixel451|pixel452|pixel453|pixel454|pixel455|pixel456|pixel457|pixel458|pixel459|pixel460|pixel461|pixel462|pixel463|pixel464|pixel465|pixel466|pixel467|pixel468|pixel469|pixel470|pixel471|pixel472|pixel473|pixel474|pixel475|pixel476|pixel477|pixel478|pixel479|pixel480|pixel481|pixel482|pixel483|pixel484|pixel485|pixel486|pixel487|pixel488|pixel489|pixel490|pixel491|pixel492|pixel493|pixel494|pixel495|pixel496|pixel497|pixel498|pixel499|pixel500|pixel501|pixel502|pixel503|pixel504|pixel505|pixel506|pixel507|pixel508|pixel509|pixel510|pixel511|pixel512|pixel513|pixel514|pixel515|pixel516|pixel517|pixel518|pixel519|pixel520|pixel521|pixel522|pixel523|pixel524|pixel525|pixel526|pixel527|pixel528|pixel529|pixel530|pixel531|pixel532|pixel533|pixel534|pixel535|pixel536|pixel537|pixel538|pixel539|pixel540|pixel541|pixel542|pixel543|pixel544|pixel545|pixel546|pixel547|pixel548|pixel549|pixel550|pixel551|pixel552|pixel553|pixel554|pixel555|pixel556|pixel557|pixel558|pixel559|pixel560|pixel561|pixel562|pixel563|pixel564|pixel565|pixel566|pixel567|pixel568|pixel569|pixel570|pixel571|pixel572|pixel573|pixel574|pixel575|pixel576|pixel577|pixel578|pixel579|pixel580|pixel581|pixel582|pixel583|pixel584|pixel585|pixel586|pixel587|pixel588|pixel589|pixel590|pixel591|pixel592|pixel593|pixel594|pixel595|pixel596|pixel597|pixel598|pixel599|pixel600|pixel601|pixel602|pixel603|pixel604|pixel605|pixel606|pixel607|pixel608|pixel609|pixel610|pixel611|pixel612|pixel613|pixel614|pixel615|pixel616|pixel617|pixel618|pixel619|pixel620|pixel621|pixel622|pixel623|pixel624|pixel625|pixel626|pixel627|pixel628|pixel629|pixel630|pixel631|pixel632|pixel633|pixel634|pixel635|pixel636|pixel637|pixel638|pixel639|pixel640|pixel641|pixel642|pixel643|pixel644|pixel645|pixel646|pixel647|pixel648|pixel649|pixel650|pixel651|pixel652|pixel653|pixel654|pixel655|pixel656|pixel657|pixel658|pixel659|pixel660|pixel661|pixel662|pixel663|pixel664|pixel665|pixel666|pixel667|pixel668|pixel669|pixel670|pixel671|pixel672|pixel673|pixel674|pixel675|pixel676|pixel677|pixel678|pixel679|pixel680|pixel681|pixel682|pixel683|pixel684|pixel685|pixel686|pixel687|pixel688|pixel689|pixel690|pixel691|pixel692|pixel693|pixel694|pixel695|pixel696|pixel697|pixel698|pixel699|pixel700|pixel701|pixel702|pixel703|pixel704|pixel705|pixel706|pixel707|pixel708|pixel709|pixel710|pixel711|pixel712|pixel713|pixel714|pixel715|pixel716|pixel717|pixel718|pixel719|pixel720|pixel721|pixel722|pixel723|pixel724|pixel725|pixel726|pixel727|pixel728|pixel729|pixel730|pixel731|pixel732|pixel733|pixel734|pixel735|pixel736|pixel737|pixel738|pixel739|pixel740|pixel741|pixel742|pixel743|pixel744|pixel745|pixel746|pixel747|pixel748|pixel749|pixel750|pixel751|pixel752|pixel753|pixel754|pixel755|pixel756|pixel757|pixel758|pixel759|pixel760|pixel761|pixel762|pixel763|pixel764|pixel765|pixel766|pixel767|pixel768|pixel769|pixel770|pixel771|pixel772|pixel773|pixel774|pixel775|pixel776|pixel777|pixel778|pixel779|pixel780|pixel781|pixel782|pixel783|\n",
              "+-----+------+------+------+------+------+------+------+------+------+------+-------+-------+-------+-------+-------+-------+-------+-------+-------+-------+-------+-------+-------+-------+-------+-------+-------+-------+-------+-------+-------+-------+-------+-------+-------+-------+-------+-------+-------+-------+-------+-------+-------+-------+-------+-------+-------+-------+-------+-------+-------+-------+-------+-------+-------+-------+-------+-------+-------+-------+-------+-------+-------+-------+-------+-------+-------+-------+-------+-------+-------+-------+-------+-------+-------+-------+-------+-------+-------+-------+-------+-------+-------+-------+-------+-------+-------+-------+-------+-------+-------+-------+-------+-------+-------+-------+-------+-------+-------+-------+--------+--------+--------+--------+--------+--------+--------+--------+--------+--------+--------+--------+--------+--------+--------+--------+--------+--------+--------+--------+--------+--------+--------+--------+--------+--------+--------+--------+--------+--------+--------+--------+--------+--------+--------+--------+--------+--------+--------+--------+--------+--------+--------+--------+--------+--------+--------+--------+--------+--------+--------+--------+--------+--------+--------+--------+--------+--------+--------+--------+--------+--------+--------+--------+--------+--------+--------+--------+--------+--------+--------+--------+--------+--------+--------+--------+--------+--------+--------+--------+--------+--------+--------+--------+--------+--------+--------+--------+--------+--------+--------+--------+--------+--------+--------+--------+--------+--------+--------+--------+--------+--------+--------+--------+--------+--------+--------+--------+--------+--------+--------+--------+--------+--------+--------+--------+--------+--------+--------+--------+--------+--------+--------+--------+--------+--------+--------+--------+--------+--------+--------+--------+--------+--------+--------+--------+--------+--------+--------+--------+--------+--------+--------+--------+--------+--------+--------+--------+--------+--------+--------+--------+--------+--------+--------+--------+--------+--------+--------+--------+--------+--------+--------+--------+--------+--------+--------+--------+--------+--------+--------+--------+--------+--------+--------+--------+--------+--------+--------+--------+--------+--------+--------+--------+--------+--------+--------+--------+--------+--------+--------+--------+--------+--------+--------+--------+--------+--------+--------+--------+--------+--------+--------+--------+--------+--------+--------+--------+--------+--------+--------+--------+--------+--------+--------+--------+--------+--------+--------+--------+--------+--------+--------+--------+--------+--------+--------+--------+--------+--------+--------+--------+--------+--------+--------+--------+--------+--------+--------+--------+--------+--------+--------+--------+--------+--------+--------+--------+--------+--------+--------+--------+--------+--------+--------+--------+--------+--------+--------+--------+--------+--------+--------+--------+--------+--------+--------+--------+--------+--------+--------+--------+--------+--------+--------+--------+--------+--------+--------+--------+--------+--------+--------+--------+--------+--------+--------+--------+--------+--------+--------+--------+--------+--------+--------+--------+--------+--------+--------+--------+--------+--------+--------+--------+--------+--------+--------+--------+--------+--------+--------+--------+--------+--------+--------+--------+--------+--------+--------+--------+--------+--------+--------+--------+--------+--------+--------+--------+--------+--------+--------+--------+--------+--------+--------+--------+--------+--------+--------+--------+--------+--------+--------+--------+--------+--------+--------+--------+--------+--------+--------+--------+--------+--------+--------+--------+--------+--------+--------+--------+--------+--------+--------+--------+--------+--------+--------+--------+--------+--------+--------+--------+--------+--------+--------+--------+--------+--------+--------+--------+--------+--------+--------+--------+--------+--------+--------+--------+--------+--------+--------+--------+--------+--------+--------+--------+--------+--------+--------+--------+--------+--------+--------+--------+--------+--------+--------+--------+--------+--------+--------+--------+--------+--------+--------+--------+--------+--------+--------+--------+--------+--------+--------+--------+--------+--------+--------+--------+--------+--------+--------+--------+--------+--------+--------+--------+--------+--------+--------+--------+--------+--------+--------+--------+--------+--------+--------+--------+--------+--------+--------+--------+--------+--------+--------+--------+--------+--------+--------+--------+--------+--------+--------+--------+--------+--------+--------+--------+--------+--------+--------+--------+--------+--------+--------+--------+--------+--------+--------+--------+--------+--------+--------+--------+--------+--------+--------+--------+--------+--------+--------+--------+--------+--------+--------+--------+--------+--------+--------+--------+--------+--------+--------+--------+--------+--------+--------+--------+--------+--------+--------+--------+--------+--------+--------+--------+--------+--------+--------+--------+--------+--------+--------+--------+--------+--------+--------+--------+--------+--------+--------+--------+--------+--------+--------+--------+--------+--------+--------+--------+--------+--------+--------+--------+--------+--------+--------+--------+--------+--------+--------+--------+--------+--------+--------+--------+--------+--------+--------+--------+--------+--------+--------+--------+--------+--------+--------+--------+--------+--------+--------+--------+--------+--------+--------+--------+--------+--------+--------+--------+--------+--------+--------+--------+--------+--------+--------+--------+--------+--------+--------+--------+--------+--------+--------+--------+--------+--------+--------+--------+--------+--------+--------+--------+--------+--------+--------+--------+--------+--------+--------+--------+--------+--------+--------+--------+--------+--------+--------+--------+--------+--------+--------+--------+--------+--------+--------+--------+--------+--------+--------+--------+--------+--------+--------+--------+--------+--------+--------+--------+--------+--------+--------+--------+--------+--------+--------+--------+--------+--------+--------+--------+--------+--------+--------+--------+--------+--------+--------+--------+--------+--------+--------+--------+--------+--------+--------+--------+--------+--------+--------+--------+--------+--------+--------+--------+--------+--------+--------+--------+--------+--------+--------+--------+\n",
              "    1|     0|     0|     0|     0|     0|     0|     0|     0|     0|     0|      0|      0|      0|      0|      0|      0|      0|      0|      0|      0|      0|      0|      0|      0|      0|      0|      0|      0|      0|      0|      0|      0|      0|      0|      0|      0|      0|      0|      0|      0|      0|      0|      0|      0|      0|      0|      0|      0|      0|      0|      0|      0|      0|      0|      0|      0|      0|      0|      0|      0|      0|      0|      0|      0|      0|      0|      0|      0|      0|      0|      0|      0|      0|      0|      0|      0|      0|      0|      0|      0|      0|      0|      0|      0|      0|      0|      0|      0|      0|      0|      0|      0|      0|      0|      0|      0|      0|      0|      0|      0|       0|       0|       0|       0|       0|       0|       0|       0|       0|       0|       0|       0|       0|       0|       0|       0|       0|       0|       0|       0|       0|       0|       0|       0|       0|       0|       0|       0|       0|       0|       0|       0|     188|     255|      94|       0|       0|       0|       0|       0|       0|       0|       0|       0|       0|       0|       0|       0|       0|       0|       0|       0|       0|       0|       0|       0|       0|       0|       0|     191|     250|     253|      93|       0|       0|       0|       0|       0|       0|       0|       0|       0|       0|       0|       0|       0|       0|       0|       0|       0|       0|       0|       0|       0|       0|       0|     123|     248|     253|     167|      10|       0|       0|       0|       0|       0|       0|       0|       0|       0|       0|       0|       0|       0|       0|       0|       0|       0|       0|       0|       0|       0|       0|      80|     247|     253|     208|      13|       0|       0|       0|       0|       0|       0|       0|       0|       0|       0|       0|       0|       0|       0|       0|       0|       0|       0|       0|       0|       0|       0|      29|     207|     253|     235|      77|       0|       0|       0|       0|       0|       0|       0|       0|       0|       0|       0|       0|       0|       0|       0|       0|       0|       0|       0|       0|       0|       0|      54|     209|     253|     253|      88|       0|       0|       0|       0|       0|       0|       0|       0|       0|       0|       0|       0|       0|       0|       0|       0|       0|       0|       0|       0|       0|       0|      93|     254|     253|     238|     170|      17|       0|       0|       0|       0|       0|       0|       0|       0|       0|       0|       0|       0|       0|       0|       0|       0|       0|       0|       0|       0|       0|      23|     210|     254|     253|     159|       0|       0|       0|       0|       0|       0|       0|       0|       0|       0|       0|       0|       0|       0|       0|       0|       0|       0|       0|       0|       0|       0|      16|     209|     253|     254|     240|      81|       0|       0|       0|       0|       0|       0|       0|       0|       0|       0|       0|       0|       0|       0|       0|       0|       0|       0|       0|       0|       0|       0|      27|     253|     253|     254|      13|       0|       0|       0|       0|       0|       0|       0|       0|       0|       0|       0|       0|       0|       0|       0|       0|       0|       0|       0|       0|       0|       0|      20|     206|     254|     254|     198|       7|       0|       0|       0|       0|       0|       0|       0|       0|       0|       0|       0|       0|       0|       0|       0|       0|       0|       0|       0|       0|       0|       0|     168|     253|     253|     196|       7|       0|       0|       0|       0|       0|       0|       0|       0|       0|       0|       0|       0|       0|       0|       0|       0|       0|       0|       0|       0|       0|       0|      20|     203|     253|     248|      76|       0|       0|       0|       0|       0|       0|       0|       0|       0|       0|       0|       0|       0|       0|       0|       0|       0|       0|       0|       0|       0|       0|      22|     188|     253|     245|      93|       0|       0|       0|       0|       0|       0|       0|       0|       0|       0|       0|       0|       0|       0|       0|       0|       0|       0|       0|       0|       0|       0|       0|     103|     253|     253|     191|       0|       0|       0|       0|       0|       0|       0|       0|       0|       0|       0|       0|       0|       0|       0|       0|       0|       0|       0|       0|       0|       0|       0|      89|     240|     253|     195|      25|       0|       0|       0|       0|       0|       0|       0|       0|       0|       0|       0|       0|       0|       0|       0|       0|       0|       0|       0|       0|       0|       0|      15|     220|     253|     253|      80|       0|       0|       0|       0|       0|       0|       0|       0|       0|       0|       0|       0|       0|       0|       0|       0|       0|       0|       0|       0|       0|       0|       0|      94|     253|     253|     253|      94|       0|       0|       0|       0|       0|       0|       0|       0|       0|       0|       0|       0|       0|       0|       0|       0|       0|       0|       0|       0|       0|       0|       0|      89|     251|     253|     250|     131|       0|       0|       0|       0|       0|       0|       0|       0|       0|       0|       0|       0|       0|       0|       0|       0|       0|       0|       0|       0|       0|       0|       0|       0|     214|     218|      95|       0|       0|       0|       0|       0|       0|       0|       0|       0|       0|       0|       0|       0|       0|       0|       0|       0|       0|       0|       0|       0|       0|       0|       0|       0|       0|       0|       0|       0|       0|       0|       0|       0|       0|       0|       0|       0|       0|       0|       0|       0|       0|       0|       0|       0|       0|       0|       0|       0|       0|       0|       0|       0|       0|       0|       0|       0|       0|       0|       0|       0|       0|       0|       0|       0|       0|       0|       0|       0|       0|       0|       0|       0|       0|       0|       0|       0|       0|       0|       0|       0|       0|       0|       0|       0|       0|       0|       0|       0|       0|       0|       0|       0|       0|       0|       0|       0|       0|       0|       0|       0|       0|       0|       0|       0|       0|       0|       0|       0|       0|       0|       0|       0|       0|       0|       0|       0|       0|       0|       0|       0|       0|       0|       0|       0|       0|       0|       0|       0|\n",
              "\n",
              "*** WARNING: skipped 13908 bytes of output ***\n",
              "\n",
              "    4|     0|     0|     0|     0|     0|     0|     0|     0|     0|     0|      0|      0|      0|      0|      0|      0|      0|      0|      0|      0|      0|      0|      0|      0|      0|      0|      0|      0|      0|      0|      0|      0|      0|      0|      0|      0|      0|      0|      0|      0|      0|      0|      0|      0|      0|      0|      0|      0|      0|      0|      0|      0|      0|      0|      0|      0|      0|      0|      0|      0|      0|      0|      0|      0|      0|      0|      0|      0|      0|      0|      0|      0|      0|      0|      0|      0|      0|      0|      0|      0|      0|      0|      0|      0|      0|      0|      0|      0|      0|      0|      0|      0|      0|      0|      0|      0|      0|      0|      0|      0|       0|       0|       0|       0|       0|       0|       0|       0|       0|       0|       0|       0|       0|       0|       0|       0|       0|       0|       0|       0|       0|       0|       0|       0|       0|       0|       0|       0|       0|       0|       0|       0|       0|       0|       0|       0|       0|       0|       0|       0|       0|       0|       0|       0|       0|       0|     220|     179|       6|       0|       0|       0|       0|       0|       0|       0|       0|       9|      77|       0|       0|       0|       0|       0|       0|       0|       0|       0|       0|       0|       0|       0|       0|       0|      28|     247|      17|       0|       0|       0|       0|       0|       0|       0|       0|      27|     202|       0|       0|       0|       0|       0|       0|       0|       0|       0|       0|       0|       0|       0|       0|       0|       0|     242|     155|       0|       0|       0|       0|       0|       0|       0|       0|      27|     254|      63|       0|       0|       0|       0|       0|       0|       0|       0|       0|       0|       0|       0|       0|       0|       0|     160|     207|       6|       0|       0|       0|       0|       0|       0|       0|      27|     254|      65|       0|       0|       0|       0|       0|       0|       0|       0|       0|       0|       0|       0|       0|       0|       0|     127|     254|      21|       0|       0|       0|       0|       0|       0|       0|      20|     239|      65|       0|       0|       0|       0|       0|       0|       0|       0|       0|       0|       0|       0|       0|       0|       0|      77|     254|      21|       0|       0|       0|       0|       0|       0|       0|       0|     195|      65|       0|       0|       0|       0|       0|       0|       0|       0|       0|       0|       0|       0|       0|       0|       0|      70|     254|      21|       0|       0|       0|       0|       0|       0|       0|       0|     195|     142|       0|       0|       0|       0|       0|       0|       0|       0|       0|       0|       0|       0|       0|       0|       0|      56|     251|      21|       0|       0|       0|       0|       0|       0|       0|       0|     195|     227|       0|       0|       0|       0|       0|       0|       0|       0|       0|       0|       0|       0|       0|       0|       0|       0|     222|     153|       5|       0|       0|       0|       0|       0|       0|       0|     120|     240|      13|       0|       0|       0|       0|       0|       0|       0|       0|       0|       0|       0|       0|       0|       0|       0|      67|     251|      40|       0|       0|       0|       0|       0|       0|       0|      94|     255|      69|       0|       0|       0|       0|       0|       0|       0|       0|       0|       0|       0|       0|       0|       0|       0|       0|     234|     184|       0|       0|       0|       0|       0|       0|       0|      19|     245|      69|       0|       0|       0|       0|       0|       0|       0|       0|       0|       0|       0|       0|       0|       0|       0|       0|     234|     169|       0|       0|       0|       0|       0|       0|       0|       3|     199|     182|      10|       0|       0|       0|       0|       0|       0|       0|       0|       0|       0|       0|       0|       0|       0|       0|     154|     205|       4|       0|       0|      26|      72|     128|     203|     208|     254|     254|     131|       0|       0|       0|       0|       0|       0|       0|       0|       0|       0|       0|       0|       0|       0|       0|      61|     254|     129|     113|     186|     245|     251|     189|      75|      56|     136|     254|      73|       0|       0|       0|       0|       0|       0|       0|       0|       0|       0|       0|       0|       0|       0|       0|      15|     216|     233|     233|     159|     104|      52|       0|       0|       0|      38|     254|      73|       0|       0|       0|       0|       0|       0|       0|       0|       0|       0|       0|       0|       0|       0|       0|       0|       0|       0|       0|       0|       0|       0|       0|       0|       0|      18|     254|      73|       0|       0|       0|       0|       0|       0|       0|       0|       0|       0|       0|       0|       0|       0|       0|       0|       0|       0|       0|       0|       0|       0|       0|       0|       0|      18|     254|      73|       0|       0|       0|       0|       0|       0|       0|       0|       0|       0|       0|       0|       0|       0|       0|       0|       0|       0|       0|       0|       0|       0|       0|       0|       0|       5|     206|     106|       0|       0|       0|       0|       0|       0|       0|       0|       0|       0|       0|       0|       0|       0|       0|       0|       0|       0|       0|       0|       0|       0|       0|       0|       0|       0|     186|     159|       0|       0|       0|       0|       0|       0|       0|       0|       0|       0|       0|       0|       0|       0|       0|       0|       0|       0|       0|       0|       0|       0|       0|       0|       0|       6|     209|     101|       0|       0|       0|       0|       0|       0|       0|       0|       0|       0|       0|       0|       0|       0|       0|       0|       0|       0|       0|       0|       0|       0|       0|       0|       0|       0|       0|       0|       0|       0|       0|       0|       0|       0|       0|       0|       0|       0|       0|       0|       0|       0|       0|       0|       0|       0|       0|       0|       0|       0|       0|       0|       0|       0|       0|       0|       0|       0|       0|       0|       0|       0|       0|       0|       0|       0|       0|       0|       0|       0|       0|       0|       0|       0|       0|       0|       0|       0|       0|       0|       0|       0|       0|       0|       0|       0|       0|       0|       0|       0|\n",
              "    0|     0|     0|     0|     0|     0|     0|     0|     0|     0|     0|      0|      0|      0|      0|      0|      0|      0|      0|      0|      0|      0|      0|      0|      0|      0|      0|      0|      0|      0|      0|      0|      0|      0|      0|      0|      0|      0|      0|      0|      0|      0|      0|      0|      0|      0|      0|      0|      0|      0|      0|      0|      0|      0|      0|      0|      0|      0|      0|      0|      0|      0|      0|      0|      0|      0|      0|      0|      0|      0|      0|      0|      0|      0|      0|      0|      0|      0|      0|      0|      0|      0|      0|      0|      0|      0|      0|      0|      0|      0|      0|      0|      0|      0|      0|      0|      0|      0|      0|      0|      0|       0|       0|       0|       0|       0|       0|       0|       0|       0|       0|       0|       0|       0|       0|       0|       0|       0|       0|       0|       0|       0|       1|      25|     130|     155|     254|     254|     254|     157|      30|       2|       0|       0|       0|       0|       0|       0|       0|       0|       0|       0|       0|       0|       0|       0|       0|       0|       0|       8|     103|     253|     253|     253|     253|     253|     253|     253|     253|     114|       2|       0|       0|       0|       0|       0|       0|       0|       0|       0|       0|       0|       0|       0|       0|       0|      11|     208|     253|     253|     253|     253|     253|     253|     253|     253|     253|     253|     107|       0|       0|       0|       0|       0|       0|       0|       0|       0|       0|       0|       0|       0|       0|       0|      31|     253|     253|     253|     253|     253|     253|     253|     253|     253|     253|     253|     215|     101|       3|       0|       0|       0|       0|       0|       0|       0|       0|       0|       0|       0|       0|      23|     210|     253|     253|     253|     248|     161|     222|     222|     246|     253|     253|     253|     253|     253|      39|       0|       0|       0|       0|       0|       0|       0|       0|       0|       0|       0|       0|     136|     253|     253|     253|     229|      77|       0|       0|       0|      70|     218|     253|     253|     253|     253|     215|      91|       0|       0|       0|       0|       0|       0|       0|       0|       0|       0|       5|     214|     253|     253|     253|     195|       0|       0|       0|       0|       0|     104|     224|     253|     253|     253|     253|     215|      29|       0|       0|       0|       0|       0|       0|       0|       0|       0|     116|     253|     253|     253|     247|      75|       0|       0|       0|       0|       0|       0|      26|     200|     253|     253|     253|     253|     216|       4|       0|       0|       0|       0|       0|       0|       0|       0|     254|     253|     253|     253|     195|       0|       0|       0|       0|       0|       0|       0|       0|      26|     200|     253|     253|     253|     253|       5|       0|       0|       0|       0|       0|       0|       0|       0|     254|     253|     253|     253|      99|       0|       0|       0|       0|       0|       0|       0|       0|       0|      25|     231|     253|     253|     253|      36|       0|       0|       0|       0|       0|       0|       0|       0|     254|     253|     253|     253|      99|       0|       0|       0|       0|       0|       0|       0|       0|       0|       0|     223|     253|     253|     253|     129|       0|       0|       0|       0|       0|       0|       0|       0|     254|     253|     253|     253|      99|       0|       0|       0|       0|       0|       0|       0|       0|       0|       0|     127|     253|     253|     253|     129|       0|       0|       0|       0|       0|       0|       0|       0|     254|     253|     253|     253|      99|       0|       0|       0|       0|       0|       0|       0|       0|       0|       0|     139|     253|     253|     253|      90|       0|       0|       0|       0|       0|       0|       0|       0|     254|     253|     253|     253|      99|       0|       0|       0|       0|       0|       0|       0|       0|       0|      78|     248|     253|     253|     253|       5|       0|       0|       0|       0|       0|       0|       0|       0|     254|     253|     253|     253|     216|      34|       0|       0|       0|       0|       0|       0|       0|      33|     152|     253|     253|     253|     107|       1|       0|       0|       0|       0|       0|       0|       0|       0|     206|     253|     253|     253|     253|     140|       0|       0|       0|       0|       0|      30|     139|     234|     253|     253|     253|     154|       2|       0|       0|       0|       0|       0|       0|       0|       0|       0|      16|     205|     253|     253|     253|     250|     208|     106|     106|     106|     200|     237|     253|     253|     253|     253|     209|      22|       0|       0|       0|       0|       0|       0|       0|       0|       0|       0|       0|      82|     253|     253|     253|     253|     253|     253|     253|     253|     253|     253|     253|     253|     253|     209|      22|       0|       0|       0|       0|       0|       0|       0|       0|       0|       0|       0|       0|       1|      91|     253|     253|     253|     253|     253|     253|     253|     253|     253|     253|     213|      90|       7|       0|       0|       0|       0|       0|       0|       0|       0|       0|       0|       0|       0|       0|       0|       1|      18|     129|     208|     253|     253|     253|     253|     159|     129|      90|       4|       0|       0|       0|       0|       0|       0|       0|       0|       0|       0|       0|       0|       0|       0|       0|       0|       0|       0|       0|       0|       0|       0|       0|       0|       0|       0|       0|       0|       0|       0|       0|       0|       0|       0|       0|       0|       0|       0|       0|       0|       0|       0|       0|       0|       0|       0|       0|       0|       0|       0|       0|       0|       0|       0|       0|       0|       0|       0|       0|       0|       0|       0|       0|       0|       0|       0|       0|       0|       0|       0|       0|       0|       0|       0|       0|       0|       0|       0|       0|       0|       0|       0|       0|       0|       0|       0|       0|       0|       0|       0|       0|       0|       0|       0|       0|       0|       0|       0|       0|       0|       0|       0|       0|       0|       0|       0|       0|       0|       0|       0|       0|       0|       0|       0|       0|       0|       0|       0|       0|       0|       0|\n",
              "+-----+------+------+------+------+------+------+------+------+------+------+-------+-------+-------+-------+-------+-------+-------+-------+-------+-------+-------+-------+-------+-------+-------+-------+-------+-------+-------+-------+-------+-------+-------+-------+-------+-------+-------+-------+-------+-------+-------+-------+-------+-------+-------+-------+-------+-------+-------+-------+-------+-------+-------+-------+-------+-------+-------+-------+-------+-------+-------+-------+-------+-------+-------+-------+-------+-------+-------+-------+-------+-------+-------+-------+-------+-------+-------+-------+-------+-------+-------+-------+-------+-------+-------+-------+-------+-------+-------+-------+-------+-------+-------+-------+-------+-------+-------+-------+-------+-------+--------+--------+--------+--------+--------+--------+--------+--------+--------+--------+--------+--------+--------+--------+--------+--------+--------+--------+--------+--------+--------+--------+--------+--------+--------+--------+--------+--------+--------+--------+--------+--------+--------+--------+--------+--------+--------+--------+--------+--------+--------+--------+--------+--------+--------+--------+--------+--------+--------+--------+--------+--------+--------+--------+--------+--------+--------+--------+--------+--------+--------+--------+--------+--------+--------+--------+--------+--------+--------+--------+--------+--------+--------+--------+--------+--------+--------+--------+--------+--------+--------+--------+--------+--------+--------+--------+--------+--------+--------+--------+--------+--------+--------+--------+--------+--------+--------+--------+--------+--------+--------+--------+--------+--------+--------+--------+--------+--------+--------+--------+--------+--------+--------+--------+--------+--------+--------+--------+--------+--------+--------+--------+--------+--------+--------+--------+--------+--------+--------+--------+--------+--------+--------+--------+--------+--------+--------+--------+--------+--------+--------+--------+--------+--------+--------+--------+--------+--------+--------+--------+--------+--------+--------+--------+--------+--------+--------+--------+--------+--------+--------+--------+--------+--------+--------+--------+--------+--------+--------+--------+--------+--------+--------+--------+--------+--------+--------+--------+--------+--------+--------+--------+--------+--------+--------+--------+--------+--------+--------+--------+--------+--------+--------+--------+--------+--------+--------+--------+--------+--------+--------+--------+--------+--------+--------+--------+--------+--------+--------+--------+--------+--------+--------+--------+--------+--------+--------+--------+--------+--------+--------+--------+--------+--------+--------+--------+--------+--------+--------+--------+--------+--------+--------+--------+--------+--------+--------+--------+--------+--------+--------+--------+--------+--------+--------+--------+--------+--------+--------+--------+--------+--------+--------+--------+--------+--------+--------+--------+--------+--------+--------+--------+--------+--------+--------+--------+--------+--------+--------+--------+--------+--------+--------+--------+--------+--------+--------+--------+--------+--------+--------+--------+--------+--------+--------+--------+--------+--------+--------+--------+--------+--------+--------+--------+--------+--------+--------+--------+--------+--------+--------+--------+--------+--------+--------+--------+--------+--------+--------+--------+--------+--------+--------+--------+--------+--------+--------+--------+--------+--------+--------+--------+--------+--------+--------+--------+--------+--------+--------+--------+--------+--------+--------+--------+--------+--------+--------+--------+--------+--------+--------+--------+--------+--------+--------+--------+--------+--------+--------+--------+--------+--------+--------+--------+--------+--------+--------+--------+--------+--------+--------+--------+--------+--------+--------+--------+--------+--------+--------+--------+--------+--------+--------+--------+--------+--------+--------+--------+--------+--------+--------+--------+--------+--------+--------+--------+--------+--------+--------+--------+--------+--------+--------+--------+--------+--------+--------+--------+--------+--------+--------+--------+--------+--------+--------+--------+--------+--------+--------+--------+--------+--------+--------+--------+--------+--------+--------+--------+--------+--------+--------+--------+--------+--------+--------+--------+--------+--------+--------+--------+--------+--------+--------+--------+--------+--------+--------+--------+--------+--------+--------+--------+--------+--------+--------+--------+--------+--------+--------+--------+--------+--------+--------+--------+--------+--------+--------+--------+--------+--------+--------+--------+--------+--------+--------+--------+--------+--------+--------+--------+--------+--------+--------+--------+--------+--------+--------+--------+--------+--------+--------+--------+--------+--------+--------+--------+--------+--------+--------+--------+--------+--------+--------+--------+--------+--------+--------+--------+--------+--------+--------+--------+--------+--------+--------+--------+--------+--------+--------+--------+--------+--------+--------+--------+--------+--------+--------+--------+--------+--------+--------+--------+--------+--------+--------+--------+--------+--------+--------+--------+--------+--------+--------+--------+--------+--------+--------+--------+--------+--------+--------+--------+--------+--------+--------+--------+--------+--------+--------+--------+--------+--------+--------+--------+--------+--------+--------+--------+--------+--------+--------+--------+--------+--------+--------+--------+--------+--------+--------+--------+--------+--------+--------+--------+--------+--------+--------+--------+--------+--------+--------+--------+--------+--------+--------+--------+--------+--------+--------+--------+--------+--------+--------+--------+--------+--------+--------+--------+--------+--------+--------+--------+--------+--------+--------+--------+--------+--------+--------+--------+--------+--------+--------+--------+--------+--------+--------+--------+--------+--------+--------+--------+--------+--------+--------+--------+--------+--------+--------+--------+--------+--------+--------+--------+--------+--------+--------+--------+--------+--------+--------+--------+--------+--------+--------+--------+--------+--------+--------+--------+--------+--------+--------+--------+--------+--------+--------+--------+--------+--------+--------+--------+--------+--------+--------+--------+--------+--------+--------+--------+--------+--------+--------+--------+--------+--------+--------+--------+--------+--------+--------+--------+--------+--------+\n",
              "only showing top 5 rows\n",
              "\n",
              "</div>"
            ]
          },
          "metadata": {
            "tags": []
          }
        }
      ]
    },
    {
      "cell_type": "code",
      "metadata": {
        "id": "Vx4S0Kcn4SpD",
        "colab_type": "code",
        "colab": {},
        "outputId": "61eb08dd-4e2f-4c89-bf5a-bb427d7f73cd"
      },
      "source": [
        "from pyspark.ml.feature import VectorAssembler  #cria o vetor de características\n",
        "assembler = VectorAssembler(inputCols=data.columns[1:], outputCol='features')  #define as colunas a serem utilizadas como características"
      ],
      "execution_count": null,
      "outputs": [
        {
          "output_type": "display_data",
          "data": {
            "text/html": [
              "<style scoped>\n",
              "  .ansiout {\n",
              "    display: block;\n",
              "    unicode-bidi: embed;\n",
              "    white-space: pre-wrap;\n",
              "    word-wrap: break-word;\n",
              "    word-break: break-all;\n",
              "    font-family: \"Source Code Pro\", \"Menlo\", monospace;;\n",
              "    font-size: 13px;\n",
              "    color: #555;\n",
              "    margin-left: 4px;\n",
              "    line-height: 19px;\n",
              "  }\n",
              "</style>\n",
              "<div class=\"ansiout\"></div>"
            ]
          },
          "metadata": {
            "tags": []
          }
        }
      ]
    },
    {
      "cell_type": "code",
      "metadata": {
        "id": "1jqb5U674SpE",
        "colab_type": "code",
        "colab": {},
        "outputId": "4c2a2759-a411-48d6-e949-e49a4417f50d"
      },
      "source": [
        "data_2 = assembler.transform(data)  #aplica a transformação - Vetores-Características"
      ],
      "execution_count": null,
      "outputs": [
        {
          "output_type": "display_data",
          "data": {
            "text/html": [
              "<style scoped>\n",
              "  .ansiout {\n",
              "    display: block;\n",
              "    unicode-bidi: embed;\n",
              "    white-space: pre-wrap;\n",
              "    word-wrap: break-word;\n",
              "    word-break: break-all;\n",
              "    font-family: \"Source Code Pro\", \"Menlo\", monospace;;\n",
              "    font-size: 13px;\n",
              "    color: #555;\n",
              "    margin-left: 4px;\n",
              "    line-height: 19px;\n",
              "  }\n",
              "</style>\n",
              "<div class=\"ansiout\"></div>"
            ]
          },
          "metadata": {
            "tags": []
          }
        }
      ]
    },
    {
      "cell_type": "code",
      "metadata": {
        "id": "XB5AB_9X4SpE",
        "colab_type": "code",
        "colab": {},
        "outputId": "2c45ccb5-6b10-4e25-aaf8-98a6ed42544c"
      },
      "source": [
        "data_2.show()  #label - dígitos /  features -> 28*28 pixels =  784"
      ],
      "execution_count": null,
      "outputs": [
        {
          "output_type": "display_data",
          "data": {
            "text/html": [
              "<style scoped>\n",
              "  .ansiout {\n",
              "    display: block;\n",
              "    unicode-bidi: embed;\n",
              "    white-space: pre-wrap;\n",
              "    word-wrap: break-word;\n",
              "    word-break: break-all;\n",
              "    font-family: \"Source Code Pro\", \"Menlo\", monospace;;\n",
              "    font-size: 13px;\n",
              "    color: #555;\n",
              "    margin-left: 4px;\n",
              "    line-height: 19px;\n",
              "  }\n",
              "</style>\n",
              "<div class=\"ansiout\">+-----+------+------+------+------+------+------+------+------+------+------+-------+-------+-------+-------+-------+-------+-------+-------+-------+-------+-------+-------+-------+-------+-------+-------+-------+-------+-------+-------+-------+-------+-------+-------+-------+-------+-------+-------+-------+-------+-------+-------+-------+-------+-------+-------+-------+-------+-------+-------+-------+-------+-------+-------+-------+-------+-------+-------+-------+-------+-------+-------+-------+-------+-------+-------+-------+-------+-------+-------+-------+-------+-------+-------+-------+-------+-------+-------+-------+-------+-------+-------+-------+-------+-------+-------+-------+-------+-------+-------+-------+-------+-------+-------+-------+-------+-------+-------+-------+-------+--------+--------+--------+--------+--------+--------+--------+--------+--------+--------+--------+--------+--------+--------+--------+--------+--------+--------+--------+--------+--------+--------+--------+--------+--------+--------+--------+--------+--------+--------+--------+--------+--------+--------+--------+--------+--------+--------+--------+--------+--------+--------+--------+--------+--------+--------+--------+--------+--------+--------+--------+--------+--------+--------+--------+--------+--------+--------+--------+--------+--------+--------+--------+--------+--------+--------+--------+--------+--------+--------+--------+--------+--------+--------+--------+--------+--------+--------+--------+--------+--------+--------+--------+--------+--------+--------+--------+--------+--------+--------+--------+--------+--------+--------+--------+--------+--------+--------+--------+--------+--------+--------+--------+--------+--------+--------+--------+--------+--------+--------+--------+--------+--------+--------+--------+--------+--------+--------+--------+--------+--------+--------+--------+--------+--------+--------+--------+--------+--------+--------+--------+--------+--------+--------+--------+--------+--------+--------+--------+--------+--------+--------+--------+--------+--------+--------+--------+--------+--------+--------+--------+--------+--------+--------+--------+--------+--------+--------+--------+--------+--------+--------+--------+--------+--------+--------+--------+--------+--------+--------+--------+--------+--------+--------+--------+--------+--------+--------+--------+--------+--------+--------+--------+--------+--------+--------+--------+--------+--------+--------+--------+--------+--------+--------+--------+--------+--------+--------+--------+--------+--------+--------+--------+--------+--------+--------+--------+--------+--------+--------+--------+--------+--------+--------+--------+--------+--------+--------+--------+--------+--------+--------+--------+--------+--------+--------+--------+--------+--------+--------+--------+--------+--------+--------+--------+--------+--------+--------+--------+--------+--------+--------+--------+--------+--------+--------+--------+--------+--------+--------+--------+--------+--------+--------+--------+--------+--------+--------+--------+--------+--------+--------+--------+--------+--------+--------+--------+--------+--------+--------+--------+--------+--------+--------+--------+--------+--------+--------+--------+--------+--------+--------+--------+--------+--------+--------+--------+--------+--------+--------+--------+--------+--------+--------+--------+--------+--------+--------+--------+--------+--------+--------+--------+--------+--------+--------+--------+--------+--------+--------+--------+--------+--------+--------+--------+--------+--------+--------+--------+--------+--------+--------+--------+--------+--------+--------+--------+--------+--------+--------+--------+--------+--------+--------+--------+--------+--------+--------+--------+--------+--------+--------+--------+--------+--------+--------+--------+--------+--------+--------+--------+--------+--------+--------+--------+--------+--------+--------+--------+--------+--------+--------+--------+--------+--------+--------+--------+--------+--------+--------+--------+--------+--------+--------+--------+--------+--------+--------+--------+--------+--------+--------+--------+--------+--------+--------+--------+--------+--------+--------+--------+--------+--------+--------+--------+--------+--------+--------+--------+--------+--------+--------+--------+--------+--------+--------+--------+--------+--------+--------+--------+--------+--------+--------+--------+--------+--------+--------+--------+--------+--------+--------+--------+--------+--------+--------+--------+--------+--------+--------+--------+--------+--------+--------+--------+--------+--------+--------+--------+--------+--------+--------+--------+--------+--------+--------+--------+--------+--------+--------+--------+--------+--------+--------+--------+--------+--------+--------+--------+--------+--------+--------+--------+--------+--------+--------+--------+--------+--------+--------+--------+--------+--------+--------+--------+--------+--------+--------+--------+--------+--------+--------+--------+--------+--------+--------+--------+--------+--------+--------+--------+--------+--------+--------+--------+--------+--------+--------+--------+--------+--------+--------+--------+--------+--------+--------+--------+--------+--------+--------+--------+--------+--------+--------+--------+--------+--------+--------+--------+--------+--------+--------+--------+--------+--------+--------+--------+--------+--------+--------+--------+--------+--------+--------+--------+--------+--------+--------+--------+--------+--------+--------+--------+--------+--------+--------+--------+--------+--------+--------+--------+--------+--------+--------+--------+--------+--------+--------+--------+--------+--------+--------+--------+--------+--------+--------+--------+--------+--------+--------+--------+--------+--------+--------+--------+--------+--------+--------+--------+--------+--------+--------+--------+--------+--------+--------+--------+--------+--------+--------+--------+--------+--------+--------+--------+--------+--------+--------+--------+--------+--------+--------+--------+--------+--------+--------+--------+--------+--------+--------+--------+--------+--------+--------+--------+--------+--------+--------+--------+--------+--------+--------+--------+--------+--------+--------+--------+--------+--------+--------+--------+--------+--------+--------+--------+--------+--------+--------+--------+--------+--------+--------+--------+--------+--------+--------+--------+--------+--------+--------+--------+--------+--------+--------+--------+--------+--------+--------+--------+--------+--------+--------+--------+--------+--------+--------+--------+--------+--------+--------+--------+--------+--------+--------+--------+--------+--------+--------+--------+--------+--------+--------+--------+--------+--------------------+\n",
              "label|pixel0|pixel1|pixel2|pixel3|pixel4|pixel5|pixel6|pixel7|pixel8|pixel9|pixel10|pixel11|pixel12|pixel13|pixel14|pixel15|pixel16|pixel17|pixel18|pixel19|pixel20|pixel21|pixel22|pixel23|pixel24|pixel25|pixel26|pixel27|pixel28|pixel29|pixel30|pixel31|pixel32|pixel33|pixel34|pixel35|pixel36|pixel37|pixel38|pixel39|pixel40|pixel41|pixel42|pixel43|pixel44|pixel45|pixel46|pixel47|pixel48|pixel49|pixel50|pixel51|pixel52|pixel53|pixel54|pixel55|pixel56|pixel57|pixel58|pixel59|pixel60|pixel61|pixel62|pixel63|pixel64|pixel65|pixel66|pixel67|pixel68|pixel69|pixel70|pixel71|pixel72|pixel73|pixel74|pixel75|pixel76|pixel77|pixel78|pixel79|pixel80|pixel81|pixel82|pixel83|pixel84|pixel85|pixel86|pixel87|pixel88|pixel89|pixel90|pixel91|pixel92|pixel93|pixel94|pixel95|pixel96|pixel97|pixel98|pixel99|pixel100|pixel101|pixel102|pixel103|pixel104|pixel105|pixel106|pixel107|pixel108|pixel109|pixel110|pixel111|pixel112|pixel113|pixel114|pixel115|pixel116|pixel117|pixel118|pixel119|pixel120|pixel121|pixel122|pixel123|pixel124|pixel125|pixel126|pixel127|pixel128|pixel129|pixel130|pixel131|pixel132|pixel133|pixel134|pixel135|pixel136|pixel137|pixel138|pixel139|pixel140|pixel141|pixel142|pixel143|pixel144|pixel145|pixel146|pixel147|pixel148|pixel149|pixel150|pixel151|pixel152|pixel153|pixel154|pixel155|pixel156|pixel157|pixel158|pixel159|pixel160|pixel161|pixel162|pixel163|pixel164|pixel165|pixel166|pixel167|pixel168|pixel169|pixel170|pixel171|pixel172|pixel173|pixel174|pixel175|pixel176|pixel177|pixel178|pixel179|pixel180|pixel181|pixel182|pixel183|pixel184|pixel185|pixel186|pixel187|pixel188|pixel189|pixel190|pixel191|pixel192|pixel193|pixel194|pixel195|pixel196|pixel197|pixel198|pixel199|pixel200|pixel201|pixel202|pixel203|pixel204|pixel205|pixel206|pixel207|pixel208|pixel209|pixel210|pixel211|pixel212|pixel213|pixel214|pixel215|pixel216|pixel217|pixel218|pixel219|pixel220|pixel221|pixel222|pixel223|pixel224|pixel225|pixel226|pixel227|pixel228|pixel229|pixel230|pixel231|pixel232|pixel233|pixel234|pixel235|pixel236|pixel237|pixel238|pixel239|pixel240|pixel241|pixel242|pixel243|pixel244|pixel245|pixel246|pixel247|pixel248|pixel249|pixel250|pixel251|pixel252|pixel253|pixel254|pixel255|pixel256|pixel257|pixel258|pixel259|pixel260|pixel261|pixel262|pixel263|pixel264|pixel265|pixel266|pixel267|pixel268|pixel269|pixel270|pixel271|pixel272|pixel273|pixel274|pixel275|pixel276|pixel277|pixel278|pixel279|pixel280|pixel281|pixel282|pixel283|pixel284|pixel285|pixel286|pixel287|pixel288|pixel289|pixel290|pixel291|pixel292|pixel293|pixel294|pixel295|pixel296|pixel297|pixel298|pixel299|pixel300|pixel301|pixel302|pixel303|pixel304|pixel305|pixel306|pixel307|pixel308|pixel309|pixel310|pixel311|pixel312|pixel313|pixel314|pixel315|pixel316|pixel317|pixel318|pixel319|pixel320|pixel321|pixel322|pixel323|pixel324|pixel325|pixel326|pixel327|pixel328|pixel329|pixel330|pixel331|pixel332|pixel333|pixel334|pixel335|pixel336|pixel337|pixel338|pixel339|pixel340|pixel341|pixel342|pixel343|pixel344|pixel345|pixel346|pixel347|pixel348|pixel349|pixel350|pixel351|pixel352|pixel353|pixel354|pixel355|pixel356|pixel357|pixel358|pixel359|pixel360|pixel361|pixel362|pixel363|pixel364|pixel365|pixel366|pixel367|pixel368|pixel369|pixel370|pixel371|pixel372|pixel373|pixel374|pixel375|pixel376|pixel377|pixel378|pixel379|pixel380|pixel381|pixel382|pixel383|pixel384|pixel385|pixel386|pixel387|pixel388|pixel389|pixel390|pixel391|pixel392|pixel393|pixel394|pixel395|pixel396|pixel397|pixel398|pixel399|pixel400|pixel401|pixel402|pixel403|pixel404|pixel405|pixel406|pixel407|pixel408|pixel409|pixel410|pixel411|pixel412|pixel413|pixel414|pixel415|pixel416|pixel417|pixel418|pixel419|pixel420|pixel421|pixel422|pixel423|pixel424|pixel425|pixel426|pixel427|pixel428|pixel429|pixel430|pixel431|pixel432|pixel433|pixel434|pixel435|pixel436|pixel437|pixel438|pixel439|pixel440|pixel441|pixel442|pixel443|pixel444|pixel445|pixel446|pixel447|pixel448|pixel449|pixel450|pixel451|pixel452|pixel453|pixel454|pixel455|pixel456|pixel457|pixel458|pixel459|pixel460|pixel461|pixel462|pixel463|pixel464|pixel465|pixel466|pixel467|pixel468|pixel469|pixel470|pixel471|pixel472|pixel473|pixel474|pixel475|pixel476|pixel477|pixel478|pixel479|pixel480|pixel481|pixel482|pixel483|pixel484|pixel485|pixel486|pixel487|pixel488|pixel489|pixel490|pixel491|pixel492|pixel493|pixel494|pixel495|pixel496|pixel497|pixel498|pixel499|pixel500|pixel501|pixel502|pixel503|pixel504|pixel505|pixel506|pixel507|pixel508|pixel509|pixel510|pixel511|pixel512|pixel513|pixel514|pixel515|pixel516|pixel517|pixel518|pixel519|pixel520|pixel521|pixel522|pixel523|pixel524|pixel525|pixel526|pixel527|pixel528|pixel529|pixel530|pixel531|pixel532|pixel533|pixel534|pixel535|pixel536|pixel537|pixel538|pixel539|pixel540|pixel541|pixel542|pixel543|pixel544|pixel545|pixel546|pixel547|pixel548|pixel549|pixel550|pixel551|pixel552|pixel553|pixel554|pixel555|pixel556|pixel557|pixel558|pixel559|pixel560|pixel561|pixel562|pixel563|pixel564|pixel565|pixel566|pixel567|pixel568|pixel569|pixel570|pixel571|pixel572|pixel573|pixel574|pixel575|pixel576|pixel577|pixel578|pixel579|pixel580|pixel581|pixel582|pixel583|pixel584|pixel585|pixel586|pixel587|pixel588|pixel589|pixel590|pixel591|pixel592|pixel593|pixel594|pixel595|pixel596|pixel597|pixel598|pixel599|pixel600|pixel601|pixel602|pixel603|pixel604|pixel605|pixel606|pixel607|pixel608|pixel609|pixel610|pixel611|pixel612|pixel613|pixel614|pixel615|pixel616|pixel617|pixel618|pixel619|pixel620|pixel621|pixel622|pixel623|pixel624|pixel625|pixel626|pixel627|pixel628|pixel629|pixel630|pixel631|pixel632|pixel633|pixel634|pixel635|pixel636|pixel637|pixel638|pixel639|pixel640|pixel641|pixel642|pixel643|pixel644|pixel645|pixel646|pixel647|pixel648|pixel649|pixel650|pixel651|pixel652|pixel653|pixel654|pixel655|pixel656|pixel657|pixel658|pixel659|pixel660|pixel661|pixel662|pixel663|pixel664|pixel665|pixel666|pixel667|pixel668|pixel669|pixel670|pixel671|pixel672|pixel673|pixel674|pixel675|pixel676|pixel677|pixel678|pixel679|pixel680|pixel681|pixel682|pixel683|pixel684|pixel685|pixel686|pixel687|pixel688|pixel689|pixel690|pixel691|pixel692|pixel693|pixel694|pixel695|pixel696|pixel697|pixel698|pixel699|pixel700|pixel701|pixel702|pixel703|pixel704|pixel705|pixel706|pixel707|pixel708|pixel709|pixel710|pixel711|pixel712|pixel713|pixel714|pixel715|pixel716|pixel717|pixel718|pixel719|pixel720|pixel721|pixel722|pixel723|pixel724|pixel725|pixel726|pixel727|pixel728|pixel729|pixel730|pixel731|pixel732|pixel733|pixel734|pixel735|pixel736|pixel737|pixel738|pixel739|pixel740|pixel741|pixel742|pixel743|pixel744|pixel745|pixel746|pixel747|pixel748|pixel749|pixel750|pixel751|pixel752|pixel753|pixel754|pixel755|pixel756|pixel757|pixel758|pixel759|pixel760|pixel761|pixel762|pixel763|pixel764|pixel765|pixel766|pixel767|pixel768|pixel769|pixel770|pixel771|pixel772|pixel773|pixel774|pixel775|pixel776|pixel777|pixel778|pixel779|pixel780|pixel781|pixel782|pixel783|            features|\n",
              "+-----+------+------+------+------+------+------+------+------+------+------+-------+-------+-------+-------+-------+-------+-------+-------+-------+-------+-------+-------+-------+-------+-------+-------+-------+-------+-------+-------+-------+-------+-------+-------+-------+-------+-------+-------+-------+-------+-------+-------+-------+-------+-------+-------+-------+-------+-------+-------+-------+-------+-------+-------+-------+-------+-------+-------+-------+-------+-------+-------+-------+-------+-------+-------+-------+-------+-------+-------+-------+-------+-------+-------+-------+-------+-------+-------+-------+-------+-------+-------+-------+-------+-------+-------+-------+-------+-------+-------+-------+-------+-------+-------+-------+-------+-------+-------+-------+-------+--------+--------+--------+--------+--------+--------+--------+--------+--------+--------+--------+--------+--------+--------+--------+--------+--------+--------+--------+--------+--------+--------+--------+--------+--------+--------+--------+--------+--------+--------+--------+--------+--------+--------+--------+--------+--------+--------+--------+--------+--------+--------+--------+--------+--------+--------+--------+--------+--------+--------+--------+--------+--------+--------+--------+--------+--------+--------+--------+--------+--------+--------+--------+--------+--------+--------+--------+--------+--------+--------+--------+--------+--------+--------+--------+--------+--------+--------+--------+--------+--------+--------+--------+--------+--------+--------+--------+--------+--------+--------+--------+--------+--------+--------+--------+--------+--------+--------+--------+--------+--------+--------+--------+--------+--------+--------+--------+--------+--------+--------+--------+--------+--------+--------+--------+--------+--------+--------+--------+--------+--------+--------+--------+--------+--------+--------+--------+--------+--------+--------+--------+--------+--------+--------+--------+--------+--------+--------+--------+--------+--------+--------+--------+--------+--------+--------+--------+--------+--------+--------+--------+--------+--------+--------+--------+--------+--------+--------+--------+--------+--------+--------+--------+--------+--------+--------+--------+--------+--------+--------+--------+--------+--------+--------+--------+--------+--------+--------+--------+--------+--------+--------+--------+--------+--------+--------+--------+--------+--------+--------+--------+--------+--------+--------+--------+--------+--------+--------+--------+--------+--------+--------+--------+--------+--------+--------+--------+--------+--------+--------+--------+--------+--------+--------+--------+--------+--------+--------+--------+--------+--------+--------+--------+--------+--------+--------+--------+--------+--------+--------+--------+--------+--------+--------+--------+--------+--------+--------+--------+--------+--------+--------+--------+--------+--------+--------+--------+--------+--------+--------+--------+--------+--------+--------+--------+--------+--------+--------+--------+--------+--------+--------+--------+--------+--------+--------+--------+--------+--------+--------+--------+--------+--------+--------+--------+--------+--------+--------+--------+--------+--------+--------+--------+--------+--------+--------+--------+--------+--------+--------+--------+--------+--------+--------+--------+--------+--------+--------+--------+--------+--------+--------+--------+--------+--------+--------+--------+--------+--------+--------+--------+--------+--------+--------+--------+--------+--------+--------+--------+--------+--------+--------+--------+--------+--------+--------+--------+--------+--------+--------+--------+--------+--------+--------+--------+--------+--------+--------+--------+--------+--------+--------+--------+--------+--------+--------+--------+--------+--------+--------+--------+--------+--------+--------+--------+--------+--------+--------+--------+--------+--------+--------+--------+--------+--------+--------+--------+--------+--------+--------+--------+--------+--------+--------+--------+--------+--------+--------+--------+--------+--------+--------+--------+--------+--------+--------+--------+--------+--------+--------+--------+--------+--------+--------+--------+--------+--------+--------+--------+--------+--------+--------+--------+--------+--------+--------+--------+--------+--------+--------+--------+--------+--------+--------+--------+--------+--------+--------+--------+--------+--------+--------+--------+--------+--------+--------+--------+--------+--------+--------+--------+--------+--------+--------+--------+--------+--------+--------+--------+--------+--------+--------+--------+--------+--------+--------+--------+--------+--------+--------+--------+--------+--------+--------+--------+--------+--------+--------+--------+--------+--------+--------+--------+--------+--------+--------+--------+--------+--------+--------+--------+--------+--------+--------+--------+--------+--------+--------+--------+--------+--------+--------+--------+--------+--------+--------+--------+--------+--------+--------+--------+--------+--------+--------+--------+--------+--------+--------+--------+--------+--------+--------+--------+--------+--------+--------+--------+--------+--------+--------+--------+--------+--------+--------+--------+--------+--------+--------+--------+--------+--------+--------+--------+--------+--------+--------+--------+--------+--------+--------+--------+--------+--------+--------+--------+--------+--------+--------+--------+--------+--------+--------+--------+--------+--------+--------+--------+--------+--------+--------+--------+--------+--------+--------+--------+--------+--------+--------+--------+--------+--------+--------+--------+--------+--------+--------+--------+--------+--------+--------+--------+--------+--------+--------+--------+--------+--------+--------+--------+--------+--------+--------+--------+--------+--------+--------+--------+--------+--------+--------+--------+--------+--------+--------+--------+--------+--------+--------+--------+--------+--------+--------+--------+--------+--------+--------+--------+--------+--------+--------+--------+--------+--------+--------+--------+--------+--------+--------+--------+--------+--------+--------+--------+--------+--------+--------+--------+--------+--------+--------+--------+--------+--------+--------+--------+--------+--------+--------+--------+--------+--------+--------+--------+--------+--------+--------+--------+--------+--------+--------+--------+--------+--------+--------+--------+--------+--------+--------+--------+--------+--------+--------+--------+--------+--------+--------+--------+--------+--------+--------+--------+--------+--------+--------+--------+--------+--------+--------+--------+--------+--------+--------+--------+--------+--------------------+\n",
              "    1|     0|     0|     0|     0|     0|     0|     0|     0|     0|     0|      0|      0|      0|      0|      0|      0|      0|      0|      0|      0|      0|      0|      0|      0|      0|      0|      0|      0|      0|      0|      0|      0|      0|      0|      0|      0|      0|      0|      0|      0|      0|      0|      0|      0|      0|      0|      0|      0|      0|      0|      0|      0|      0|      0|      0|      0|      0|      0|      0|      0|      0|      0|      0|      0|      0|      0|      0|      0|      0|      0|      0|      0|      0|      0|      0|      0|      0|      0|      0|      0|      0|      0|      0|      0|      0|      0|      0|      0|      0|      0|      0|      0|      0|      0|      0|      0|      0|      0|      0|      0|       0|       0|       0|       0|       0|       0|       0|       0|       0|       0|       0|       0|       0|       0|       0|       0|       0|       0|       0|       0|       0|       0|       0|       0|       0|       0|       0|       0|       0|       0|       0|       0|     188|     255|      94|       0|       0|       0|       0|       0|       0|       0|       0|       0|       0|       0|       0|       0|       0|       0|       0|       0|       0|       0|       0|       0|       0|       0|       0|     191|     250|     253|      93|       0|       0|       0|       0|       0|       0|       0|       0|       0|       0|       0|       0|       0|       0|       0|       0|       0|       0|       0|       0|       0|       0|       0|     123|     248|     253|     167|      10|       0|       0|       0|       0|       0|       0|       0|       0|       0|       0|       0|       0|       0|       0|       0|       0|       0|       0|       0|       0|       0|       0|      80|     247|     253|     208|      13|       0|       0|       0|       0|       0|       0|       0|       0|       0|       0|       0|       0|       0|       0|       0|       0|       0|       0|       0|       0|       0|       0|      29|     207|     253|     235|      77|       0|       0|       0|       0|       0|       0|       0|       0|       0|       0|       0|       0|       0|       0|       0|       0|       0|       0|       0|       0|       0|       0|      54|     209|     253|     253|      88|       0|       0|       0|       0|       0|       0|       0|       0|       0|       0|       0|       0|       0|       0|       0|       0|       0|       0|       0|       0|       0|       0|      93|     254|     253|     238|     170|      17|       0|       0|       0|       0|       0|       0|       0|       0|       0|       0|       0|       0|       0|       0|       0|       0|       0|       0|       0|       0|       0|      23|     210|     254|     253|     159|       0|       0|       0|       0|       0|       0|       0|       0|       0|       0|       0|       0|       0|       0|       0|       0|       0|       0|       0|       0|       0|       0|      16|     209|     253|     254|     240|      81|       0|       0|       0|       0|       0|       0|       0|       0|       0|       0|       0|       0|       0|       0|       0|       0|       0|       0|       0|       0|       0|       0|      27|     253|     253|     254|      13|       0|       0|       0|       0|       0|       0|       0|       0|       0|       0|       0|       0|       0|       0|       0|       0|       0|       0|       0|       0|       0|       0|      20|     206|     254|     254|     198|       7|       0|       0|       0|       0|       0|       0|       0|       0|       0|       0|       0|       0|       0|       0|       0|       0|       0|       0|       0|       0|       0|       0|     168|     253|     253|     196|       7|       0|       0|       0|       0|       0|       0|       0|       0|       0|       0|       0|       0|       0|       0|       0|       0|       0|       0|       0|       0|       0|       0|      20|     203|     253|     248|      76|       0|       0|       0|       0|       0|       0|       0|       0|       0|       0|       0|       0|       0|       0|       0|       0|       0|       0|       0|       0|       0|       0|      22|     188|     253|     245|      93|       0|       0|       0|       0|       0|       0|       0|       0|       0|       0|       0|       0|       0|       0|       0|       0|       0|       0|       0|       0|       0|       0|       0|     103|     253|     253|     191|       0|       0|       0|       0|       0|       0|       0|       0|       0|       0|       0|       0|       0|       0|       0|       0|       0|       0|       0|       0|       0|       0|       0|      89|     240|     253|     195|      25|       0|       0|       0|       0|       0|       0|       0|       0|       0|       0|       0|       0|       0|       0|       0|       0|       0|       0|       0|       0|       0|       0|      15|     220|     253|     253|      80|       0|       0|       0|       0|       0|       0|       0|       0|       0|       0|       0|       0|       0|       0|       0|       0|       0|       0|       0|       0|       0|       0|       0|      94|     253|     253|     253|      94|       0|       0|       0|       0|       0|       0|       0|       0|       0|       0|       0|       0|       0|       0|       0|       0|       0|       0|       0|       0|       0|       0|       0|      89|     251|     253|     250|     131|       0|       0|       0|       0|       0|       0|       0|       0|       0|       0|       0|       0|       0|       0|       0|       0|       0|       0|       0|       0|       0|       0|       0|       0|     214|     218|      95|       0|       0|       0|       0|       0|       0|       0|       0|       0|       0|       0|       0|       0|       0|       0|       0|       0|       0|       0|       0|       0|       0|       0|       0|       0|       0|       0|       0|       0|       0|       0|       0|       0|       0|       0|       0|       0|       0|       0|       0|       0|       0|       0|       0|       0|       0|       0|       0|       0|       0|       0|       0|       0|       0|       0|       0|       0|       0|       0|       0|       0|       0|       0|       0|       0|       0|       0|       0|       0|       0|       0|       0|       0|       0|       0|       0|       0|       0|       0|       0|       0|       0|       0|       0|       0|       0|       0|       0|       0|       0|       0|       0|       0|       0|       0|       0|       0|       0|       0|       0|       0|       0|       0|       0|       0|       0|       0|       0|       0|       0|       0|       0|       0|       0|       0|       0|       0|       0|       0|       0|       0|       0|       0|       0|       0|       0|       0|       0|       0|(784,[132,133,134...|\n",
              "\n",
              "*** WARNING: skipped 118575 bytes of output ***\n",
              "\n",
              "    7|     0|     0|     0|     0|     0|     0|     0|     0|     0|     0|      0|      0|      0|      0|      0|      0|      0|      0|      0|      0|      0|      0|      0|      0|      0|      0|      0|      0|      0|      0|      0|      0|      0|      0|      0|      0|      0|      0|      0|      0|      0|      0|      0|      0|      0|      0|      0|      0|      0|      0|      0|      0|      0|      0|      0|      0|      0|      0|      0|      0|      0|      0|      0|      0|      0|      0|      0|      0|      0|      0|      0|      0|      0|      0|      0|      0|      0|      0|      0|      0|      0|      0|      0|      0|      0|      0|      0|      0|      0|      0|      0|      0|      0|      0|      0|      0|      0|      0|      0|      0|       0|       0|       0|       0|       0|       0|       0|       0|       0|       0|       0|       0|       0|       0|       0|       0|       0|       0|       0|       0|       0|       0|       0|       0|       0|       0|       0|       0|       0|       0|       0|       0|       0|       0|       0|       0|       0|       0|       0|       0|       0|       0|       0|       0|       0|       0|       0|       0|       0|       0|       0|       0|       0|       0|       0|       0|       0|       0|       0|       0|       0|       0|       0|       0|       0|       0|       0|       0|       0|       0|       0|       0|       0|       0|       0|       0|       0|       0|       0|       0|       0|       0|       0|       0|       0|       0|       0|       0|       0|       0|       0|       0|       0|       0|       0|       0|       0|       0|       0|       0|       0|       0|       0|       0|       0|       0|      12|      69|     128|     199|     199|     220|     255|     177|     242|      22|       0|       0|       0|       0|       0|       0|       0|       0|       0|       0|       0|       0|       0|       0|       0|       0|      59|     180|     252|     254|     254|     254|     254|     254|     254|     254|     254|     120|       0|       0|       0|       0|       0|       0|       0|       0|       0|       0|       0|       0|       0|       0|       0|       0|     179|     254|     230|     186|     136|      73|      56|      56|      56|      63|     254|     140|       0|       0|       0|       0|       0|       0|       0|       0|       0|       0|       0|       0|       0|       0|       0|       0|     110|      50|      16|       0|       0|       0|       0|       0|       0|      76|     237|      25|       0|       0|       0|       0|       0|       0|       0|       0|       0|       0|       0|       0|       0|       0|       0|       0|       0|       0|       0|       0|       0|       0|       0|       0|       0|     205|     214|       0|       0|       0|       0|       0|       0|       0|       0|       0|       0|       0|       0|       0|       0|       0|       0|       0|       0|       0|       0|       0|       0|       0|       0|       0|      47|     252|     105|       0|       0|       0|       0|       0|       0|       0|       0|       0|       0|       0|       0|       0|       0|       0|       0|       0|       0|       0|       0|       0|       0|       0|       0|       2|     208|     219|       3|       0|       0|       0|       0|       0|       0|       0|       0|       0|       0|       0|       0|       0|       0|       0|       0|       0|       0|       0|       0|       0|       0|       0|       0|      96|     254|      78|       0|       0|       0|       0|       0|       0|       0|       0|       0|       0|       0|       0|       0|       0|       0|       0|       0|       0|       0|       0|       0|       0|       0|       0|       6|     209|     187|       1|       0|       0|       0|       0|       0|       0|       0|       0|       0|       0|       0|       0|       0|       0|       0|       0|       0|       0|       0|       0|       0|       0|       0|       0|     155|     254|      58|       0|       0|       0|       0|       0|       0|       0|       0|       0|       0|       0|       0|       0|       0|       0|       0|       0|       0|       0|       0|       0|       0|       0|       0|       9|     222|     240|      13|       0|       0|       0|       0|       0|       0|       0|       0|       0|       0|       0|       0|       0|       0|       0|       0|       0|       0|       0|       0|       0|       0|       0|       0|      87|     254|      71|       0|       0|       0|       0|       0|       0|       0|       0|       0|       0|       0|       0|       0|       0|       0|       0|       0|       0|       0|       0|       0|       0|       0|       0|       9|     213|     238|      20|       0|       0|       0|       0|       0|       0|       0|       0|       0|       0|       0|       0|       0|       0|       0|       0|       0|       0|       0|       0|       0|       0|       0|       0|      31|     254|     203|       1|       0|       0|       0|       0|       0|       0|       0|       0|       0|       0|       0|       0|       0|       0|       0|       0|       0|       0|       0|       0|       0|       0|       0|       2|     172|     254|     152|       8|       0|       0|       0|       0|       0|       0|       0|       0|       0|       0|       0|       0|       0|       0|       0|       0|       0|       0|       0|       0|       0|       0|       0|      63|     254|     151|      10|       0|       0|       0|       0|       0|       0|       0|       0|       0|       0|       0|       0|       0|       0|       0|       0|       0|       0|       0|       0|       0|       0|       0|       1|     191|     226|      27|       0|       0|       0|       0|       0|       0|       0|       0|       0|       0|       0|       0|       0|       0|       0|       0|       0|       0|       0|       0|       0|       0|       0|       0|      23|     254|     102|       0|       0|       0|       0|       0|       0|       0|       0|       0|       0|       0|       0|       0|       0|       0|       0|       0|       0|       0|       0|       0|       0|       0|       0|       0|     158|     249|      47|       0|       0|       0|       0|       0|       0|       0|       0|       0|       0|       0|       0|       0|       0|       0|       0|       0|       0|       0|       0|       0|       0|       0|       0|       0|     165|     160|       0|       0|       0|       0|       0|       0|       0|       0|       0|       0|       0|       0|       0|       0|       0|       0|       0|       0|       0|       0|       0|       0|       0|       0|       0|       0|       0|       0|       0|       0|       0|       0|       0|       0|       0|       0|       0|       0|       0|       0|       0|       0|       0|       0|(784,[206,207,208...|\n",
              "    5|     0|     0|     0|     0|     0|     0|     0|     0|     0|     0|      0|      0|      0|      0|      0|      0|      0|      0|      0|      0|      0|      0|      0|      0|      0|      0|      0|      0|      0|      0|      0|      0|      0|      0|      0|      0|      0|      0|      0|      0|      0|      0|      0|      0|      0|      0|      0|      0|      0|      0|      0|      0|      0|      0|      0|      0|      0|      0|      0|      0|      0|      0|      0|      0|      0|      0|      0|      0|      0|      0|      0|      0|      0|      0|      0|      0|      0|      0|      0|      0|      0|      0|      0|      0|      0|      0|      0|      0|      0|      0|      0|      0|      0|      0|      0|      0|      0|      0|      0|      0|       0|       0|       0|       0|       0|       0|       0|       0|       0|       0|       0|       0|       0|       0|       0|       0|       0|       0|       0|       0|       0|       4|      29|      66|     141|     141|     216|     253|     203|     255|     253|     253|     153|      13|       0|       0|       0|       0|       0|       0|       0|       0|       0|       0|       0|       0|       0|       0|      26|     179|     252|     252|     252|     253|     252|     252|     252|     253|     252|     252|     252|     138|       0|       0|       0|       0|       0|       0|       0|       0|       0|       0|       0|       0|       0|       0|     200|     253|     252|     252|     252|     253|     252|     252|     177|     216|     252|     252|     252|     225|       0|       0|       0|       0|       0|       0|       0|       0|       0|       0|       0|       0|       0|      76|     249|     253|     252|     252|     252|     140|     115|      78|       3|      66|      53|      90|     139|      75|       0|       0|       0|       0|       0|       0|       0|       0|       0|       0|       0|       0|       0|     147|     253|     255|     222|      76|       0|       0|       0|       0|       0|       0|       0|       0|       0|       0|       0|       0|       0|       0|       0|       0|       0|       0|       0|       0|       0|       0|      38|     234|     252|     253|     171|       0|       0|       0|       0|       0|       0|       0|       0|       0|       0|       0|       0|       0|       0|       0|       0|       0|       0|       0|       0|       0|       0|       0|      57|     252|     252|     253|      84|       0|       0|       0|       0|       0|       0|       0|       0|       0|       0|       0|       0|       0|       0|       0|       0|       0|       0|       0|       0|       0|       0|       0|      57|     252|     252|     253|      84|       0|       0|       0|       0|       0|       0|       0|       0|       0|       0|       0|       0|       0|       0|       0|       0|       0|       0|       0|       0|       0|       0|       0|     108|     253|     253|     254|     228|     141|     141|     129|      29|      29|      29|      79|      29|      29|       4|       0|       0|       0|       0|       0|       0|       0|       0|       0|       0|       0|       0|       0|      57|     252|     252|     253|     252|     252|     252|     253|     252|     252|     252|     253|     252|     252|     178|     169|      82|       0|       0|       0|       0|       0|       0|       0|       0|       0|       0|       0|      13|     171|     252|     253|     252|     252|     252|     253|     252|     252|     252|     253|     252|     252|     252|     253|     196|       0|       0|       0|       0|       0|       0|       0|       0|       0|       0|       0|       0|      10|     178|     253|     252|     252|     252|     253|     252|     252|     202|     203|     252|     252|     252|     253|     246|     100|       0|       0|       0|       0|       0|       0|       0|       0|       0|       0|       0|       0|       0|      63|      44|       7|     176|      63|       0|       0|       0|       0|       0|      38|     238|     254|     253|     168|       0|       0|       0|       0|       0|       0|       0|       0|       0|       0|       0|       0|       0|      45|     187|     149|     231|     138|       0|       0|       0|       0|       0|       0|     225|     253|     252|     168|       0|       0|       0|       0|       0|       0|       0|       0|       0|       0|       0|       0|       0|     141|     252|     252|     252|     137|       0|       0|       0|       0|       0|     104|     246|     253|     252|     130|       0|       0|       0|       0|       0|       0|       0|       0|       0|       0|       0|       0|       0|     141|     252|     252|     252|     238|     150|     113|     113|     114|     188|     246|     252|     253|     252|      56|       0|       0|       0|       0|       0|       0|       0|       0|       0|       0|       0|       0|       0|      76|     244|     253|     253|     254|     253|     253|     253|     254|     253|     253|     253|     254|     184|       0|       0|       0|       0|       0|       0|       0|       0|       0|       0|       0|       0|       0|       0|       0|      94|     252|     252|     253|     252|     252|     252|     253|     252|     252|     252|     209|      28|       0|       0|       0|       0|       0|       0|       0|       0|       0|       0|       0|       0|       0|       0|       0|      13|      94|     243|     253|     252|     252|     252|     206|     187|     252|     177|      25|       0|       0|       0|       0|       0|       0|       0|       0|       0|       0|       0|       0|       0|       0|       0|       0|       0|       0|      25|      91|     165|     252|     252|      63|       7|      28|       3|       0|       0|       0|       0|       0|       0|       0|       0|       0|       0|       0|       0|       0|       0|       0|       0|       0|       0|       0|       0|       0|       0|       0|       0|       0|       0|       0|       0|       0|       0|       0|       0|       0|       0|       0|       0|       0|       0|       0|       0|       0|       0|       0|       0|       0|       0|       0|       0|       0|       0|       0|       0|       0|       0|       0|       0|       0|       0|       0|       0|       0|       0|       0|       0|       0|       0|       0|       0|       0|       0|       0|       0|       0|       0|       0|       0|       0|       0|       0|       0|       0|       0|       0|       0|       0|       0|       0|       0|       0|       0|       0|       0|       0|       0|       0|       0|       0|       0|       0|       0|       0|       0|       0|       0|       0|       0|       0|       0|       0|       0|       0|       0|       0|       0|       0|       0|       0|       0|       0|(784,[121,122,123...|\n",
              "+-----+------+------+------+------+------+------+------+------+------+------+-------+-------+-------+-------+-------+-------+-------+-------+-------+-------+-------+-------+-------+-------+-------+-------+-------+-------+-------+-------+-------+-------+-------+-------+-------+-------+-------+-------+-------+-------+-------+-------+-------+-------+-------+-------+-------+-------+-------+-------+-------+-------+-------+-------+-------+-------+-------+-------+-------+-------+-------+-------+-------+-------+-------+-------+-------+-------+-------+-------+-------+-------+-------+-------+-------+-------+-------+-------+-------+-------+-------+-------+-------+-------+-------+-------+-------+-------+-------+-------+-------+-------+-------+-------+-------+-------+-------+-------+-------+-------+--------+--------+--------+--------+--------+--------+--------+--------+--------+--------+--------+--------+--------+--------+--------+--------+--------+--------+--------+--------+--------+--------+--------+--------+--------+--------+--------+--------+--------+--------+--------+--------+--------+--------+--------+--------+--------+--------+--------+--------+--------+--------+--------+--------+--------+--------+--------+--------+--------+--------+--------+--------+--------+--------+--------+--------+--------+--------+--------+--------+--------+--------+--------+--------+--------+--------+--------+--------+--------+--------+--------+--------+--------+--------+--------+--------+--------+--------+--------+--------+--------+--------+--------+--------+--------+--------+--------+--------+--------+--------+--------+--------+--------+--------+--------+--------+--------+--------+--------+--------+--------+--------+--------+--------+--------+--------+--------+--------+--------+--------+--------+--------+--------+--------+--------+--------+--------+--------+--------+--------+--------+--------+--------+--------+--------+--------+--------+--------+--------+--------+--------+--------+--------+--------+--------+--------+--------+--------+--------+--------+--------+--------+--------+--------+--------+--------+--------+--------+--------+--------+--------+--------+--------+--------+--------+--------+--------+--------+--------+--------+--------+--------+--------+--------+--------+--------+--------+--------+--------+--------+--------+--------+--------+--------+--------+--------+--------+--------+--------+--------+--------+--------+--------+--------+--------+--------+--------+--------+--------+--------+--------+--------+--------+--------+--------+--------+--------+--------+--------+--------+--------+--------+--------+--------+--------+--------+--------+--------+--------+--------+--------+--------+--------+--------+--------+--------+--------+--------+--------+--------+--------+--------+--------+--------+--------+--------+--------+--------+--------+--------+--------+--------+--------+--------+--------+--------+--------+--------+--------+--------+--------+--------+--------+--------+--------+--------+--------+--------+--------+--------+--------+--------+--------+--------+--------+--------+--------+--------+--------+--------+--------+--------+--------+--------+--------+--------+--------+--------+--------+--------+--------+--------+--------+--------+--------+--------+--------+--------+--------+--------+--------+--------+--------+--------+--------+--------+--------+--------+--------+--------+--------+--------+--------+--------+--------+--------+--------+--------+--------+--------+--------+--------+--------+--------+--------+--------+--------+--------+--------+--------+--------+--------+--------+--------+--------+--------+--------+--------+--------+--------+--------+--------+--------+--------+--------+--------+--------+--------+--------+--------+--------+--------+--------+--------+--------+--------+--------+--------+--------+--------+--------+--------+--------+--------+--------+--------+--------+--------+--------+--------+--------+--------+--------+--------+--------+--------+--------+--------+--------+--------+--------+--------+--------+--------+--------+--------+--------+--------+--------+--------+--------+--------+--------+--------+--------+--------+--------+--------+--------+--------+--------+--------+--------+--------+--------+--------+--------+--------+--------+--------+--------+--------+--------+--------+--------+--------+--------+--------+--------+--------+--------+--------+--------+--------+--------+--------+--------+--------+--------+--------+--------+--------+--------+--------+--------+--------+--------+--------+--------+--------+--------+--------+--------+--------+--------+--------+--------+--------+--------+--------+--------+--------+--------+--------+--------+--------+--------+--------+--------+--------+--------+--------+--------+--------+--------+--------+--------+--------+--------+--------+--------+--------+--------+--------+--------+--------+--------+--------+--------+--------+--------+--------+--------+--------+--------+--------+--------+--------+--------+--------+--------+--------+--------+--------+--------+--------+--------+--------+--------+--------+--------+--------+--------+--------+--------+--------+--------+--------+--------+--------+--------+--------+--------+--------+--------+--------+--------+--------+--------+--------+--------+--------+--------+--------+--------+--------+--------+--------+--------+--------+--------+--------+--------+--------+--------+--------+--------+--------+--------+--------+--------+--------+--------+--------+--------+--------+--------+--------+--------+--------+--------+--------+--------+--------+--------+--------+--------+--------+--------+--------+--------+--------+--------+--------+--------+--------+--------+--------+--------+--------+--------+--------+--------+--------+--------+--------+--------+--------+--------+--------+--------+--------+--------+--------+--------+--------+--------+--------+--------+--------+--------+--------+--------+--------+--------+--------+--------+--------+--------+--------+--------+--------+--------+--------+--------+--------+--------+--------+--------+--------+--------+--------+--------+--------+--------+--------+--------+--------+--------+--------+--------+--------+--------+--------+--------+--------+--------+--------+--------+--------+--------+--------+--------+--------+--------+--------+--------+--------+--------+--------+--------+--------+--------+--------+--------+--------+--------+--------+--------+--------+--------+--------+--------+--------+--------+--------+--------+--------+--------+--------+--------+--------+--------+--------+--------+--------+--------+--------+--------+--------+--------+--------+--------+--------+--------+--------+--------+--------+--------+--------+--------+--------+--------+--------+--------+--------+--------+--------+--------+--------+--------+--------+--------+--------+--------+--------+--------+--------+--------+--------+--------+--------+--------+--------+--------------------+\n",
              "only showing top 20 rows\n",
              "\n",
              "</div>"
            ]
          },
          "metadata": {
            "tags": []
          }
        }
      ]
    },
    {
      "cell_type": "code",
      "metadata": {
        "id": "qtSBvt964SpF",
        "colab_type": "code",
        "colab": {},
        "outputId": "0a39bb38-cbc3-4ccb-9135-cf301fcd3573"
      },
      "source": [
        "data_2.select(\"features\").show()"
      ],
      "execution_count": null,
      "outputs": [
        {
          "output_type": "display_data",
          "data": {
            "text/html": [
              "<style scoped>\n",
              "  .ansiout {\n",
              "    display: block;\n",
              "    unicode-bidi: embed;\n",
              "    white-space: pre-wrap;\n",
              "    word-wrap: break-word;\n",
              "    word-break: break-all;\n",
              "    font-family: \"Source Code Pro\", \"Menlo\", monospace;;\n",
              "    font-size: 13px;\n",
              "    color: #555;\n",
              "    margin-left: 4px;\n",
              "    line-height: 19px;\n",
              "  }\n",
              "</style>\n",
              "<div class=\"ansiout\">+--------------------+\n",
              "            features|\n",
              "+--------------------+\n",
              "(784,[132,133,134...|\n",
              "(784,[122,123,124...|\n",
              "(784,[124,125,126...|\n",
              "(784,[146,147,148...|\n",
              "(784,[121,122,123...|\n",
              "(784,[124,125,126...|\n",
              "(784,[202,203,204...|\n",
              "(784,[177,178,179...|\n",
              "(784,[153,154,155...|\n",
              "(784,[119,120,121...|\n",
              "(784,[180,181,182...|\n",
              "(784,[182,183,184...|\n",
              "(784,[154,155,156...|\n",
              "(784,[144,145,146...|\n",
              "(784,[122,123,124...|\n",
              "(784,[156,157,158...|\n",
              "(784,[148,149,150...|\n",
              "(784,[129,130,131...|\n",
              "(784,[206,207,208...|\n",
              "(784,[121,122,123...|\n",
              "+--------------------+\n",
              "only showing top 20 rows\n",
              "\n",
              "</div>"
            ]
          },
          "metadata": {
            "tags": []
          }
        }
      ]
    },
    {
      "cell_type": "code",
      "metadata": {
        "id": "g6Q9LqYV4SpG",
        "colab_type": "code",
        "colab": {},
        "outputId": "1123a0e7-255b-4893-cc36-e08dc72fe18b"
      },
      "source": [
        "from pyspark.ml.feature import PCA  #importa o PCA\n",
        "pca = PCA(k=2, inputCol='features', outputCol='features_pca')  #define que queremos 2 dimensões "
      ],
      "execution_count": null,
      "outputs": [
        {
          "output_type": "display_data",
          "data": {
            "text/html": [
              "<style scoped>\n",
              "  .ansiout {\n",
              "    display: block;\n",
              "    unicode-bidi: embed;\n",
              "    white-space: pre-wrap;\n",
              "    word-wrap: break-word;\n",
              "    word-break: break-all;\n",
              "    font-family: \"Source Code Pro\", \"Menlo\", monospace;;\n",
              "    font-size: 13px;\n",
              "    color: #555;\n",
              "    margin-left: 4px;\n",
              "    line-height: 19px;\n",
              "  }\n",
              "</style>\n",
              "<div class=\"ansiout\"></div>"
            ]
          },
          "metadata": {
            "tags": []
          }
        }
      ]
    },
    {
      "cell_type": "code",
      "metadata": {
        "id": "UbjCYAIL4SpH",
        "colab_type": "code",
        "colab": {},
        "outputId": "3c294aef-f0fd-46e2-d0d1-53ebae16a6e3"
      },
      "source": [
        "pca_model = pca.fit(data_2)  #aplica o PCA"
      ],
      "execution_count": null,
      "outputs": [
        {
          "output_type": "display_data",
          "data": {
            "text/html": [
              "<style scoped>\n",
              "  .ansiout {\n",
              "    display: block;\n",
              "    unicode-bidi: embed;\n",
              "    white-space: pre-wrap;\n",
              "    word-wrap: break-word;\n",
              "    word-break: break-all;\n",
              "    font-family: \"Source Code Pro\", \"Menlo\", monospace;;\n",
              "    font-size: 13px;\n",
              "    color: #555;\n",
              "    margin-left: 4px;\n",
              "    line-height: 19px;\n",
              "  }\n",
              "</style>\n",
              "<div class=\"ansiout\"></div>"
            ]
          },
          "metadata": {
            "tags": []
          }
        }
      ]
    },
    {
      "cell_type": "code",
      "metadata": {
        "id": "DY2zeRlw4SpI",
        "colab_type": "code",
        "colab": {},
        "outputId": "effa0935-734d-4633-d602-7776cb8e4084"
      },
      "source": [
        "pca_data = pca_model.transform(data_2).select('features_pca')  #encontra os autovetores de duas dimensões "
      ],
      "execution_count": null,
      "outputs": [
        {
          "output_type": "display_data",
          "data": {
            "text/html": [
              "<style scoped>\n",
              "  .ansiout {\n",
              "    display: block;\n",
              "    unicode-bidi: embed;\n",
              "    white-space: pre-wrap;\n",
              "    word-wrap: break-word;\n",
              "    word-break: break-all;\n",
              "    font-family: \"Source Code Pro\", \"Menlo\", monospace;;\n",
              "    font-size: 13px;\n",
              "    color: #555;\n",
              "    margin-left: 4px;\n",
              "    line-height: 19px;\n",
              "  }\n",
              "</style>\n",
              "<div class=\"ansiout\"></div>"
            ]
          },
          "metadata": {
            "tags": []
          }
        }
      ]
    },
    {
      "cell_type": "code",
      "metadata": {
        "id": "o81C-1lH4SpJ",
        "colab_type": "code",
        "colab": {},
        "outputId": "2a35ec71-2a30-4c30-a186-82dea461427a"
      },
      "source": [
        "pca_data.show(truncate=False)"
      ],
      "execution_count": null,
      "outputs": [
        {
          "output_type": "display_data",
          "data": {
            "text/html": [
              "<style scoped>\n",
              "  .ansiout {\n",
              "    display: block;\n",
              "    unicode-bidi: embed;\n",
              "    white-space: pre-wrap;\n",
              "    word-wrap: break-word;\n",
              "    word-break: break-all;\n",
              "    font-family: \"Source Code Pro\", \"Menlo\", monospace;;\n",
              "    font-size: 13px;\n",
              "    color: #555;\n",
              "    margin-left: 4px;\n",
              "    line-height: 19px;\n",
              "  }\n",
              "</style>\n",
              "<div class=\"ansiout\">+----------------------------------------+\n",
              "features_pca                            |\n",
              "+----------------------------------------+\n",
              "[103.73881375798231,699.5124334036425]  |\n",
              "[2466.786278309411,360.75266138892977]  |\n",
              "[-121.55984060478056,293.9668873776071] |\n",
              "[599.5789910719536,-299.98165533942404] |\n",
              "[2689.044309475988,449.3541744175646]   |\n",
              "[1253.0865041336547,-192.55129697675193]|\n",
              "[93.01142906179622,-464.6028692847633]  |\n",
              "[650.9527788161635,20.92824777141599]   |\n",
              "[1115.5639590482808,-140.8118688024071] |\n",
              "[1062.726681921166,807.6133411755601]   |\n",
              "[1029.0169008155733,-392.5813205980299] |\n",
              "[458.8053213897688,-351.61844932900755] |\n",
              "[-200.3413397616221,359.0383591234476]  |\n",
              "[751.2639269571832,259.69710351087]     |\n",
              "[1265.4421141805606,644.6822601674008]  |\n",
              "[-199.11010313256028,282.59084272812396]|\n",
              "[762.7156949230421,668.0353590168517]   |\n",
              "[1744.7998651615999,249.5635544444975]  |\n",
              "[128.31492885654356,-350.8101220917938] |\n",
              "[1731.441486490299,431.6726591738781]   |\n",
              "+----------------------------------------+\n",
              "only showing top 20 rows\n",
              "\n",
              "</div>"
            ]
          },
          "metadata": {
            "tags": []
          }
        }
      ]
    }
  ]
}