{
  "nbformat": 4,
  "nbformat_minor": 0,
  "metadata": {
    "kernelspec": {
      "display_name": "Python 3",
      "language": "python",
      "name": "python3"
    },
    "language_info": {
      "codemirror_mode": {
        "name": "ipython",
        "version": 3
      },
      "file_extension": ".py",
      "mimetype": "text/x-python",
      "name": "python",
      "nbconvert_exporter": "python",
      "pygments_lexer": "ipython3",
      "version": "3.8.5"
    },
    "colab": {
      "name": "Spark_streaming_AnaliseSentimento_Twitter.ipynb",
      "provenance": [],
      "include_colab_link": true
    }
  },
  "cells": [
    {
      "cell_type": "markdown",
      "metadata": {
        "id": "view-in-github",
        "colab_type": "text"
      },
      "source": [
        "<a href=\"https://colab.research.google.com/github/mariaeduardagimenes/Spark/blob/master/Spark_streaming_AnaliseSentimento_Twitter.ipynb\" target=\"_parent\"><img src=\"https://colab.research.google.com/assets/colab-badge.svg\" alt=\"Open In Colab\"/></a>"
      ]
    },
    {
      "cell_type": "markdown",
      "metadata": {
        "id": "KGqvFMGTydQz",
        "colab_type": "text"
      },
      "source": [
        "# Análise de Sentimento\n",
        "\n",
        "**Streaming com Spark**\n",
        "\n",
        "**Programa Para o Twitter***"
      ]
    },
    {
      "cell_type": "code",
      "metadata": {
        "id": "8IzxxtILydQ0",
        "colab_type": "code",
        "colab": {}
      },
      "source": [
        "#cria a seção a ser utiliza para estabelecer a conexão \n",
        "from pyspark.sql import SparkSession\n",
        "from pyspark.sql.functions import explode\n",
        "from pyspark.sql.functions import split\n",
        "\n",
        "spark = SparkSession \\\n",
        "    .builder \\\n",
        "    .appName(\"StructuredNetworkTwitterV02\") \\\n",
        "    .getOrCreate()"
      ],
      "execution_count": null,
      "outputs": []
    },
    {
      "cell_type": "code",
      "metadata": {
        "id": "oZhFU0ldydQ6",
        "colab_type": "code",
        "colab": {}
      },
      "source": [
        "#bibliotecas utilizadas para realizar a análise dos textos\n",
        "from textblob import TextBlob  #utilizada para realizar o processamento do texto e análise de sentimento\n",
        "from googletrans import Translator #utilizado para traduzir textos \n",
        "from unidecode import unidecode  #utilizada para \"decodificar caracteres\" não textuais"
      ],
      "execution_count": null,
      "outputs": []
    },
    {
      "cell_type": "code",
      "metadata": {
        "id": "RfL7IITIydQ9",
        "colab_type": "code",
        "colab": {}
      },
      "source": [
        "#cria o dataframe que será responsável por ler cada uma das linhas recebidas através do localhost e porta 9999\n",
        "# define a fonte (source) de dados\n",
        "twitters = spark \\\n",
        "    .readStream \\\n",
        "    .format(\"socket\") \\\n",
        "    .option(\"host\", \"localhost\") \\\n",
        "    .option(\"port\", 9995) \\\n",
        "    .load()"
      ],
      "execution_count": null,
      "outputs": []
    },
    {
      "cell_type": "code",
      "metadata": {
        "id": "8KFZ5uxoydRA",
        "colab_type": "code",
        "colab": {}
      },
      "source": [
        "from pyspark.sql.functions import col, udf\n",
        "from pyspark.sql.types import StringType, FloatType"
      ],
      "execution_count": null,
      "outputs": []
    },
    {
      "cell_type": "code",
      "metadata": {
        "id": "8eakyfjOydRD",
        "colab_type": "code",
        "colab": {}
      },
      "source": [
        "#função para realizar a tradução para o inglês \n",
        "def translate_udf(col):\n",
        "    trans_obj=Translator().translate(col)\n",
        "    return trans_obj.text\n",
        "\n",
        "#função para realizar a análise de sentimento\n",
        "def sentiment_udf(col):\n",
        "    sentiment_text=TextBlob(col)\n",
        "    return sentiment_text.polarity\n"
      ],
      "execution_count": null,
      "outputs": []
    },
    {
      "cell_type": "code",
      "metadata": {
        "id": "jM7Vbsi7ydRF",
        "colab_type": "code",
        "colab": {}
      },
      "source": [
        "#definição das função como User-Defined-Function\n",
        "unicode_udf_string = udf(lambda z: unidecode(z), StringType()) #define a função de decode para ser utilizada no dataframe\n",
        "group_by_sentiment = udf(lambda x: 'negativo' if x < -0.1 else 'positivo' if x > 0.1 else 'neutro',StringType())\n",
        "translate_udf_string = udf(translate_udf, StringType()) #define a função de tradução\n",
        "sentiment_udf_float = udf(sentiment_udf, FloatType()) #define a função de tradução\n"
      ],
      "execution_count": null,
      "outputs": []
    },
    {
      "cell_type": "code",
      "metadata": {
        "id": "wR5iSkxDydRI",
        "colab_type": "code",
        "colab": {},
        "outputId": "206540d2-9387-41bf-86dd-a47ee9254a49"
      },
      "source": [
        "teste=\"Eu ♥ o meu cachorro, ele e o meu melhor amigo\"\n",
        "decode=unidecode(teste)\n",
        "print(decode)\n",
        "decodeEN=Translator().translate(decode)\n",
        "print(decodeEN.text)\n",
        "a=str(decodeEN)\n",
        "sentiment = TextBlob(a)\n",
        "print(sentiment.polarity)"
      ],
      "execution_count": null,
      "outputs": [
        {
          "output_type": "stream",
          "text": [
            "Eu  o meu cachorro, ele e o meu melhor amigo\n",
            "I my dog, he and my best friend\n",
            "1.0\n"
          ],
          "name": "stdout"
        }
      ]
    },
    {
      "cell_type": "code",
      "metadata": {
        "id": "FO0VLSYdydRL",
        "colab_type": "code",
        "colab": {}
      },
      "source": [
        "#Aplica as funções udf para a seleção de colunas\n",
        "twitters_unicode=twitters.select( \"value\",unicode_udf_string(twitters.value).alias(\"unicoded\")) #decodifica\n",
        "twitters_uni_trans=twitters_unicode.select( \"value\",\"unicoded\",\n",
        "                                           translate_udf_string(col(\"unicoded\")).alias(\"twitter_EN\")) #traduz\n",
        "twitters_uni_trans_sent=twitters_uni_trans.select(\"value\", \"unicoded\", \"twitter_EN\", \n",
        "                                                 sentiment_udf_float(col(\"twitter_EN\")).alias(\"analise\"))#análise de sentimento\n",
        "t_sent_label= twitters_uni_trans_sent.select(\"value\",\"unicoded\",\"twitter_EN\", \"analise\",\n",
        "                                       group_by_sentiment(col(\"analise\")).alias(\"classificacao\"))"
      ],
      "execution_count": null,
      "outputs": []
    },
    {
      "cell_type": "code",
      "metadata": {
        "id": "1MTRVIoxydRN",
        "colab_type": "code",
        "colab": {}
      },
      "source": [
        "t_sent_count = t_sent_label.groupBy(\"classificacao\").count() "
      ],
      "execution_count": null,
      "outputs": []
    },
    {
      "cell_type": "code",
      "metadata": {
        "id": "ogn4KpoaydRQ",
        "colab_type": "code",
        "colab": {}
      },
      "source": [
        "# Define a consulta (query) e como deve ser realizada a saída (sink) para o stream criado \n",
        "query = t_sent_count \\\n",
        "    .writeStream \\\n",
        "    .outputMode(\"update\") \\\n",
        "    .format(\"console\") \\\n",
        "    .start()\n",
        "\n",
        "\n",
        "query.awaitTermination() #aguarda até que a \"streaming query\" termine "
      ],
      "execution_count": null,
      "outputs": []
    },
    {
      "cell_type": "code",
      "metadata": {
        "id": "_iY6wTWwydRS",
        "colab_type": "code",
        "colab": {}
      },
      "source": [
        ""
      ],
      "execution_count": null,
      "outputs": []
    }
  ]
}